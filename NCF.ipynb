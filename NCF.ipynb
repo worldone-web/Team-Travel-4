{
  "cells": [
    {
      "cell_type": "markdown",
      "metadata": {
        "id": "view-in-github",
        "colab_type": "text"
      },
      "source": [
        "<a href=\"https://colab.research.google.com/github/worldone-web/Team4-Traveler/blob/main/NCF.ipynb\" target=\"_parent\"><img src=\"https://colab.research.google.com/assets/colab-badge.svg\" alt=\"Open In Colab\"/></a>"
      ]
    },
    {
      "cell_type": "code",
      "execution_count": null,
      "metadata": {
        "colab": {
          "base_uri": "https://localhost:8080/"
        },
        "id": "BvWLuKHBX706",
        "outputId": "58aa8f9f-d129-444e-d0fa-2d73ea40875e"
      },
      "outputs": [
        {
          "output_type": "stream",
          "name": "stdout",
          "text": [
            "Drive not mounted, so nothing to flush and unmount.\n",
            "Mounted at /content/drive\n"
          ]
        }
      ],
      "source": [
        "from google.colab import drive\n",
        "drive.flush_and_unmount()\n",
        "drive.mount('/content/drive', force_remount=True)\n"
      ]
    },
    {
      "cell_type": "code",
      "execution_count": null,
      "metadata": {
        "colab": {
          "base_uri": "https://localhost:8080/"
        },
        "id": "xUbME3blX_Mf",
        "outputId": "9d57f3aa-3992-40f6-8d06-6f5be4d43acd"
      },
      "outputs": [
        {
          "output_type": "stream",
          "name": "stdout",
          "text": [
            "CUDA available: True\n",
            "CUDA version: 12.1\n",
            "PyTorch version: 2.5.0+cu121\n"
          ]
        }
      ],
      "source": [
        "import torch\n",
        "import numpy as np\n",
        "import pandas as pd\n",
        "import random\n",
        "print(\"CUDA available:\", torch.cuda.is_available())\n",
        "print(\"CUDA version:\", torch.version.cuda)\n",
        "print(\"PyTorch version:\", torch.__version__)"
      ]
    },
    {
      "cell_type": "code",
      "source": [
        "root_path = '/content/drive/MyDrive/BPR/'\n",
        "\n",
        "train_checkin = root_path + 'train.csv'\n",
        "test_checkin = root_path + 'test.csv'\n",
        "test_negative = root_path + 'negative.csv'"
      ],
      "metadata": {
        "id": "IxHflTUCUHdh"
      },
      "execution_count": null,
      "outputs": []
    },
    {
      "cell_type": "markdown",
      "source": [
        "## 데이터 생성"
      ],
      "metadata": {
        "id": "2peMoJYPEtHq"
      }
    },
    {
      "cell_type": "code",
      "execution_count": null,
      "metadata": {
        "id": "n_m5QTBtYBU4",
        "colab": {
          "base_uri": "https://localhost:8080/",
          "height": 206
        },
        "outputId": "bddd7d41-538a-415c-fd6e-856a4f6fb359"
      },
      "outputs": [
        {
          "output_type": "execute_result",
          "data": {
            "text/plain": [
              "   newUserId  newBusinessId\n",
              "0          1              1\n",
              "1          2              1\n",
              "2          3              1\n",
              "3          4              1\n",
              "4          5              1"
            ],
            "text/html": [
              "\n",
              "  <div id=\"df-9c91dba5-de17-4ffb-92eb-625a29b90565\" class=\"colab-df-container\">\n",
              "    <div>\n",
              "<style scoped>\n",
              "    .dataframe tbody tr th:only-of-type {\n",
              "        vertical-align: middle;\n",
              "    }\n",
              "\n",
              "    .dataframe tbody tr th {\n",
              "        vertical-align: top;\n",
              "    }\n",
              "\n",
              "    .dataframe thead th {\n",
              "        text-align: right;\n",
              "    }\n",
              "</style>\n",
              "<table border=\"1\" class=\"dataframe\">\n",
              "  <thead>\n",
              "    <tr style=\"text-align: right;\">\n",
              "      <th></th>\n",
              "      <th>newUserId</th>\n",
              "      <th>newBusinessId</th>\n",
              "    </tr>\n",
              "  </thead>\n",
              "  <tbody>\n",
              "    <tr>\n",
              "      <th>0</th>\n",
              "      <td>1</td>\n",
              "      <td>1</td>\n",
              "    </tr>\n",
              "    <tr>\n",
              "      <th>1</th>\n",
              "      <td>2</td>\n",
              "      <td>1</td>\n",
              "    </tr>\n",
              "    <tr>\n",
              "      <th>2</th>\n",
              "      <td>3</td>\n",
              "      <td>1</td>\n",
              "    </tr>\n",
              "    <tr>\n",
              "      <th>3</th>\n",
              "      <td>4</td>\n",
              "      <td>1</td>\n",
              "    </tr>\n",
              "    <tr>\n",
              "      <th>4</th>\n",
              "      <td>5</td>\n",
              "      <td>1</td>\n",
              "    </tr>\n",
              "  </tbody>\n",
              "</table>\n",
              "</div>\n",
              "    <div class=\"colab-df-buttons\">\n",
              "\n",
              "  <div class=\"colab-df-container\">\n",
              "    <button class=\"colab-df-convert\" onclick=\"convertToInteractive('df-9c91dba5-de17-4ffb-92eb-625a29b90565')\"\n",
              "            title=\"Convert this dataframe to an interactive table.\"\n",
              "            style=\"display:none;\">\n",
              "\n",
              "  <svg xmlns=\"http://www.w3.org/2000/svg\" height=\"24px\" viewBox=\"0 -960 960 960\">\n",
              "    <path d=\"M120-120v-720h720v720H120Zm60-500h600v-160H180v160Zm220 220h160v-160H400v160Zm0 220h160v-160H400v160ZM180-400h160v-160H180v160Zm440 0h160v-160H620v160ZM180-180h160v-160H180v160Zm440 0h160v-160H620v160Z\"/>\n",
              "  </svg>\n",
              "    </button>\n",
              "\n",
              "  <style>\n",
              "    .colab-df-container {\n",
              "      display:flex;\n",
              "      gap: 12px;\n",
              "    }\n",
              "\n",
              "    .colab-df-convert {\n",
              "      background-color: #E8F0FE;\n",
              "      border: none;\n",
              "      border-radius: 50%;\n",
              "      cursor: pointer;\n",
              "      display: none;\n",
              "      fill: #1967D2;\n",
              "      height: 32px;\n",
              "      padding: 0 0 0 0;\n",
              "      width: 32px;\n",
              "    }\n",
              "\n",
              "    .colab-df-convert:hover {\n",
              "      background-color: #E2EBFA;\n",
              "      box-shadow: 0px 1px 2px rgba(60, 64, 67, 0.3), 0px 1px 3px 1px rgba(60, 64, 67, 0.15);\n",
              "      fill: #174EA6;\n",
              "    }\n",
              "\n",
              "    .colab-df-buttons div {\n",
              "      margin-bottom: 4px;\n",
              "    }\n",
              "\n",
              "    [theme=dark] .colab-df-convert {\n",
              "      background-color: #3B4455;\n",
              "      fill: #D2E3FC;\n",
              "    }\n",
              "\n",
              "    [theme=dark] .colab-df-convert:hover {\n",
              "      background-color: #434B5C;\n",
              "      box-shadow: 0px 1px 3px 1px rgba(0, 0, 0, 0.15);\n",
              "      filter: drop-shadow(0px 1px 2px rgba(0, 0, 0, 0.3));\n",
              "      fill: #FFFFFF;\n",
              "    }\n",
              "  </style>\n",
              "\n",
              "    <script>\n",
              "      const buttonEl =\n",
              "        document.querySelector('#df-9c91dba5-de17-4ffb-92eb-625a29b90565 button.colab-df-convert');\n",
              "      buttonEl.style.display =\n",
              "        google.colab.kernel.accessAllowed ? 'block' : 'none';\n",
              "\n",
              "      async function convertToInteractive(key) {\n",
              "        const element = document.querySelector('#df-9c91dba5-de17-4ffb-92eb-625a29b90565');\n",
              "        const dataTable =\n",
              "          await google.colab.kernel.invokeFunction('convertToInteractive',\n",
              "                                                    [key], {});\n",
              "        if (!dataTable) return;\n",
              "\n",
              "        const docLinkHtml = 'Like what you see? Visit the ' +\n",
              "          '<a target=\"_blank\" href=https://colab.research.google.com/notebooks/data_table.ipynb>data table notebook</a>'\n",
              "          + ' to learn more about interactive tables.';\n",
              "        element.innerHTML = '';\n",
              "        dataTable['output_type'] = 'display_data';\n",
              "        await google.colab.output.renderOutput(dataTable, element);\n",
              "        const docLink = document.createElement('div');\n",
              "        docLink.innerHTML = docLinkHtml;\n",
              "        element.appendChild(docLink);\n",
              "      }\n",
              "    </script>\n",
              "  </div>\n",
              "\n",
              "\n",
              "<div id=\"df-4a1fb0a2-1095-4d58-966a-424c2a057a63\">\n",
              "  <button class=\"colab-df-quickchart\" onclick=\"quickchart('df-4a1fb0a2-1095-4d58-966a-424c2a057a63')\"\n",
              "            title=\"Suggest charts\"\n",
              "            style=\"display:none;\">\n",
              "\n",
              "<svg xmlns=\"http://www.w3.org/2000/svg\" height=\"24px\"viewBox=\"0 0 24 24\"\n",
              "     width=\"24px\">\n",
              "    <g>\n",
              "        <path d=\"M19 3H5c-1.1 0-2 .9-2 2v14c0 1.1.9 2 2 2h14c1.1 0 2-.9 2-2V5c0-1.1-.9-2-2-2zM9 17H7v-7h2v7zm4 0h-2V7h2v10zm4 0h-2v-4h2v4z\"/>\n",
              "    </g>\n",
              "</svg>\n",
              "  </button>\n",
              "\n",
              "<style>\n",
              "  .colab-df-quickchart {\n",
              "      --bg-color: #E8F0FE;\n",
              "      --fill-color: #1967D2;\n",
              "      --hover-bg-color: #E2EBFA;\n",
              "      --hover-fill-color: #174EA6;\n",
              "      --disabled-fill-color: #AAA;\n",
              "      --disabled-bg-color: #DDD;\n",
              "  }\n",
              "\n",
              "  [theme=dark] .colab-df-quickchart {\n",
              "      --bg-color: #3B4455;\n",
              "      --fill-color: #D2E3FC;\n",
              "      --hover-bg-color: #434B5C;\n",
              "      --hover-fill-color: #FFFFFF;\n",
              "      --disabled-bg-color: #3B4455;\n",
              "      --disabled-fill-color: #666;\n",
              "  }\n",
              "\n",
              "  .colab-df-quickchart {\n",
              "    background-color: var(--bg-color);\n",
              "    border: none;\n",
              "    border-radius: 50%;\n",
              "    cursor: pointer;\n",
              "    display: none;\n",
              "    fill: var(--fill-color);\n",
              "    height: 32px;\n",
              "    padding: 0;\n",
              "    width: 32px;\n",
              "  }\n",
              "\n",
              "  .colab-df-quickchart:hover {\n",
              "    background-color: var(--hover-bg-color);\n",
              "    box-shadow: 0 1px 2px rgba(60, 64, 67, 0.3), 0 1px 3px 1px rgba(60, 64, 67, 0.15);\n",
              "    fill: var(--button-hover-fill-color);\n",
              "  }\n",
              "\n",
              "  .colab-df-quickchart-complete:disabled,\n",
              "  .colab-df-quickchart-complete:disabled:hover {\n",
              "    background-color: var(--disabled-bg-color);\n",
              "    fill: var(--disabled-fill-color);\n",
              "    box-shadow: none;\n",
              "  }\n",
              "\n",
              "  .colab-df-spinner {\n",
              "    border: 2px solid var(--fill-color);\n",
              "    border-color: transparent;\n",
              "    border-bottom-color: var(--fill-color);\n",
              "    animation:\n",
              "      spin 1s steps(1) infinite;\n",
              "  }\n",
              "\n",
              "  @keyframes spin {\n",
              "    0% {\n",
              "      border-color: transparent;\n",
              "      border-bottom-color: var(--fill-color);\n",
              "      border-left-color: var(--fill-color);\n",
              "    }\n",
              "    20% {\n",
              "      border-color: transparent;\n",
              "      border-left-color: var(--fill-color);\n",
              "      border-top-color: var(--fill-color);\n",
              "    }\n",
              "    30% {\n",
              "      border-color: transparent;\n",
              "      border-left-color: var(--fill-color);\n",
              "      border-top-color: var(--fill-color);\n",
              "      border-right-color: var(--fill-color);\n",
              "    }\n",
              "    40% {\n",
              "      border-color: transparent;\n",
              "      border-right-color: var(--fill-color);\n",
              "      border-top-color: var(--fill-color);\n",
              "    }\n",
              "    60% {\n",
              "      border-color: transparent;\n",
              "      border-right-color: var(--fill-color);\n",
              "    }\n",
              "    80% {\n",
              "      border-color: transparent;\n",
              "      border-right-color: var(--fill-color);\n",
              "      border-bottom-color: var(--fill-color);\n",
              "    }\n",
              "    90% {\n",
              "      border-color: transparent;\n",
              "      border-bottom-color: var(--fill-color);\n",
              "    }\n",
              "  }\n",
              "</style>\n",
              "\n",
              "  <script>\n",
              "    async function quickchart(key) {\n",
              "      const quickchartButtonEl =\n",
              "        document.querySelector('#' + key + ' button');\n",
              "      quickchartButtonEl.disabled = true;  // To prevent multiple clicks.\n",
              "      quickchartButtonEl.classList.add('colab-df-spinner');\n",
              "      try {\n",
              "        const charts = await google.colab.kernel.invokeFunction(\n",
              "            'suggestCharts', [key], {});\n",
              "      } catch (error) {\n",
              "        console.error('Error during call to suggestCharts:', error);\n",
              "      }\n",
              "      quickchartButtonEl.classList.remove('colab-df-spinner');\n",
              "      quickchartButtonEl.classList.add('colab-df-quickchart-complete');\n",
              "    }\n",
              "    (() => {\n",
              "      let quickchartButtonEl =\n",
              "        document.querySelector('#df-4a1fb0a2-1095-4d58-966a-424c2a057a63 button');\n",
              "      quickchartButtonEl.style.display =\n",
              "        google.colab.kernel.accessAllowed ? 'block' : 'none';\n",
              "    })();\n",
              "  </script>\n",
              "</div>\n",
              "\n",
              "    </div>\n",
              "  </div>\n"
            ],
            "application/vnd.google.colaboratory.intrinsic+json": {
              "type": "dataframe",
              "variable_name": "df"
            }
          },
          "metadata": {},
          "execution_count": 4
        }
      ],
      "source": [
        "df = pd.read_csv(root_path + \"philadelphia_checkin_small.csv\")\n",
        "df.head()"
      ]
    },
    {
      "cell_type": "markdown",
      "source": [
        "### split_train_test"
      ],
      "metadata": {
        "id": "27ya-Di4EyMU"
      }
    },
    {
      "cell_type": "code",
      "source": [
        "# 각 사용자별로 n번째 음식점 방문기록 까지 데이터를 테스트 데이터로, 나머지를 트레이닝 데이터로 분리하는 함수\n",
        "def split_train_test_data(df, n=3, user_col='newUserId', item_col='newBusinessId', output_dir='.'):\n",
        "    train_data = []\n",
        "    test_data = []\n",
        "\n",
        "    # 사용자별로 그룹화하여 처리\n",
        "    for user_id, group in df.groupby(user_col):\n",
        "        # 첫 번째부터 n번째 음식점 방문 기록을 test_data로 추가\n",
        "        test_data.extend(group.iloc[:n].values.tolist())\n",
        "\n",
        "        # n+1번째부터 마지막 음식점 방문 기록을 train_data로 추가\n",
        "        train_data.extend(group.iloc[n:].values.tolist())\n",
        "\n",
        "    train_df = pd.DataFrame(train_data, columns=[user_col, item_col])\n",
        "    test_df = pd.DataFrame(test_data, columns=[user_col, item_col])\n",
        "\n",
        "\n",
        "    train_size = train_df.shape\n",
        "    test_size = test_df.shape\n",
        "    print(\"Train 데이터 크기:\", train_size)\n",
        "    print(\"Test 데이터 크기:\", test_size)\n",
        "    print(\"Test 데이터 크기 / Train 데이터 크기 비율:\", test_size[0] / train_size[0]) # 전체 크기의 대략 10%\n",
        "\n",
        "    # CSV 파일로 저장\n",
        "    train_df.to_csv(output_dir + \"train.csv\", index=False, header=False, sep='\\t')\n",
        "    test_df.to_csv(output_dir + \"test.csv\", index=False, header=False, sep='\\t')\n",
        "\n",
        "    print(\"'train.csv'와 'test.csv' 파일이 생성되었습니다.\")\n",
        "\n",
        "split_train_test_data(df, n=3, output_dir=root_path)"
      ],
      "metadata": {
        "colab": {
          "base_uri": "https://localhost:8080/"
        },
        "id": "vxOJGpiMoHW1",
        "outputId": "a6198150-9a8d-459e-da33-2f94aebe128f"
      },
      "execution_count": null,
      "outputs": [
        {
          "output_type": "stream",
          "name": "stdout",
          "text": [
            "Train 데이터 크기: (296794, 2)\n",
            "Test 데이터 크기: (36185, 2)\n",
            "Test 데이터 크기 / Train 데이터 크기 비율: 0.12191958058451316\n",
            "'train.csv'와 'test.csv' 파일이 생성되었습니다.\n"
          ]
        }
      ]
    },
    {
      "cell_type": "markdown",
      "source": [
        "### generate_negative"
      ],
      "metadata": {
        "id": "6tRt9ra_E0Yy"
      }
    },
    {
      "cell_type": "code",
      "execution_count": null,
      "metadata": {
        "colab": {
          "base_uri": "https://localhost:8080/"
        },
        "id": "UREr2PEmYucH",
        "outputId": "46b0f85a-7a2d-460d-980e-c1b15cc1d384"
      },
      "outputs": [
        {
          "output_type": "stream",
          "name": "stdout",
          "text": [
            "파일 'negative.csv'가 생성되었습니다.\n"
          ]
        }
      ],
      "source": [
        "# 각 사용자별로 부정적인 조합 생성\n",
        "def generate_negative_samples(df, n=100, user_col='newUserId', item_col='newBusinessId', output_dir='.'):\n",
        "    # 사용자와 음식점 집합 구하기\n",
        "    users = df[user_col].unique()\n",
        "    businesses = df[item_col].unique()\n",
        "\n",
        "    # 사용자별로 부정적인 조합 저장\n",
        "    user_negative_samples = {}\n",
        "\n",
        "    # 각 사용자에 대해 부정적인 조합 생성\n",
        "    for user in users:\n",
        "        # 사용자가 방문한 음식점 집합\n",
        "        user_visited_businesses = set(df[df[user_col] == user][item_col].unique())\n",
        "\n",
        "        # 사용자가 방문하지 않은 음식점 찾기\n",
        "        user_not_visited_businesses = list(set(businesses) - user_visited_businesses)\n",
        "\n",
        "        # 랜덤 샘플링하여 부정적인 조합 생성\n",
        "        if len(user_not_visited_businesses) > n: #n개 이상이면 데이터가 많아지니 제한을 둠\n",
        "            user_negative_samples[user] = random.sample(user_not_visited_businesses, n)\n",
        "        else:\n",
        "            user_negative_samples[user] = user_not_visited_businesses\n",
        "\n",
        "    # 부정적인 조합을 CSV 파일로 저장\n",
        "    with open(output_dir+ \"negative.csv\", 'w') as f:\n",
        "        for user, negatives in user_negative_samples.items():\n",
        "            f.write(f\"{user},{','.join(map(str, negatives))}\\n\")\n",
        "\n",
        "    print(\"파일 'negative.csv'가 생성되었습니다.\")\n",
        "\n",
        "generate_negative_samples(df, n=100, output_dir=root_path)"
      ]
    },
    {
      "cell_type": "markdown",
      "source": [
        "### generate_individual_negative"
      ],
      "metadata": {
        "id": "mkq4TtVjFDZq"
      }
    },
    {
      "cell_type": "code",
      "source": [
        "# 각 사용자별로 부정적인 조합 생성\n",
        "def generate_negative_samples(df, n=100, user_col='newUserId', item_col='newBusinessId', output_dir='.'):\n",
        "    # 사용자와 음식점 집합 구하기\n",
        "    users = df[user_col].unique()\n",
        "    businesses = df[item_col].unique()\n",
        "\n",
        "    # 사용자별로 부정적인 조합 저장\n",
        "    user_negative_samples = {}\n",
        "\n",
        "    # 각 사용자에 대해 부정적인 조합 생성\n",
        "    for user in users:\n",
        "        # 사용자가 방문한 음식점 집합\n",
        "        user_visited_businesses = set(df[df[user_col] == user][item_col].unique())\n",
        "\n",
        "        # 사용자가 방문하지 않은 음식점 찾기\n",
        "        user_not_visited_businesses = list(set(businesses) - user_visited_businesses)\n",
        "\n",
        "        # 랜덤 샘플링하여 부정적인 조합 생성\n",
        "        if len(user_not_visited_businesses) > n: #n개 이상이면 데이터가 많아지니 제한을 둠\n",
        "            user_negative_samples[user] = random.sample(user_not_visited_businesses, n)\n",
        "        else:\n",
        "            user_negative_samples[user] = user_not_visited_businesses\n",
        "\n",
        "    # 부정적인 조합을 CSV 파일로 저장\n",
        "    with open(output_dir+ \"negative.csv\", 'w') as f:\n",
        "        for user, negatives in user_negative_samples.items():\n",
        "            f.write(f\"{user},{','.join(map(str, negatives))}\\n\")\n",
        "\n",
        "    print(\"파일 'negative.csv'가 생성되었습니다.\")\n",
        "\n",
        "generate_negative_samples(df, n=100, output_dir=root_path)"
      ],
      "metadata": {
        "id": "1ZqdNloOE2Cy"
      },
      "execution_count": null,
      "outputs": []
    },
    {
      "cell_type": "markdown",
      "source": [
        "## 모델 생성"
      ],
      "metadata": {
        "id": "TPhRaWYXFGqi"
      }
    },
    {
      "cell_type": "markdown",
      "source": [
        "### 평가함수"
      ],
      "metadata": {
        "id": "6pAMrLT-FJIK"
      }
    },
    {
      "cell_type": "code",
      "execution_count": null,
      "metadata": {
        "id": "p8n-R5CaYxUV"
      },
      "outputs": [],
      "source": [
        "def hit(gt_item, pred_items):\n",
        "\tif gt_item in pred_items:\n",
        "\t\treturn 1\n",
        "\treturn 0\n",
        "\n",
        "\n",
        "def ndcg(gt_item, pred_items):\n",
        "\tif gt_item in pred_items:\n",
        "\t\tindex = pred_items.index(gt_item)\n",
        "\t\treturn np.reciprocal(np.log2(index+2))\n",
        "\treturn 0\n",
        "\n",
        "\n",
        "def metrics(model, test_loader, top_k):\n",
        "\t# HR: 전체 사용자 수 대비 적중한 사용자 수\n",
        "\t# NDCG: '사용자'와 '추천한 아이템'의 '관련성'에 대해 추천 순서에 따라 가중치를 주어 합한뒤 정규화한 것\n",
        "\tHR, NDCG = [], []\n",
        "\n",
        "\tfor user, item_i, item_j in test_loader:\n",
        "\t\tuser = user.cuda()\n",
        "\t\titem_i = item_i.cuda()\n",
        "\t\titem_j = item_j.cuda() # not useful when testing\n",
        "\n",
        "\t\tprediction_i, prediction_j = model(user, item_i, item_j)\n",
        "\t\t_, indices = torch.topk(prediction_i, top_k)\n",
        "\t\trecommends = torch.take(\n",
        "\t\t\t\titem_i, indices).cpu().numpy().tolist()\n",
        "\n",
        "\t\tgt_item = item_i[0].item()\n",
        "\t\tHR.append(hit(gt_item, recommends))\n",
        "\t\tNDCG.append(ndcg(gt_item, recommends))\n",
        "\n",
        "\treturn np.mean(HR), np.mean(NDCG)"
      ]
    },
    {
      "cell_type": "markdown",
      "source": [
        "### 모델"
      ],
      "metadata": {
        "id": "Y_8S9fLBFRTx"
      }
    },
    {
      "cell_type": "code",
      "execution_count": null,
      "metadata": {
        "id": "ftYQHUrqjKjz"
      },
      "outputs": [],
      "source": [
        "import torch\n",
        "import torch.nn as nn\n",
        "import torch.optim as optim\n",
        "from torch.utils.data import Dataset, DataLoader\n",
        "from sklearn.model_selection import train_test_split\n",
        "\n",
        "import os\n",
        "import time\n",
        "import numpy as np\n",
        "import torch.backends.cudnn as cudnn\n",
        "\n",
        "import pandas as pd\n",
        "import scipy.sparse as sp\n",
        "import random\n",
        "import torch.utils.data as data"
      ]
    },
    {
      "cell_type": "code",
      "execution_count": null,
      "metadata": {
        "id": "IZ6aD-ErmLfA"
      },
      "outputs": [],
      "source": [
        "# 하드코딩된 기본값 설정\n",
        "lr = 0.001\n",
        "lamda = 0.001\n",
        "batch_size = 4096\n",
        "epochs = 100\n",
        "top_k = 10\n",
        "num_factors = 32\n",
        "num_ng = 4\n",
        "test_num_ng = 99\n",
        "out = True"
      ]
    },
    {
      "cell_type": "code",
      "execution_count": null,
      "metadata": {
        "id": "fyeitUPxYC2G"
      },
      "outputs": [],
      "source": [
        "\n",
        "class NCFData(Dataset):\n",
        "    def __init__(self, features, num_item, train_mat=None, num_ng=0, is_training=None):\n",
        "        super(NCFData, self).__init__()\n",
        "        self.features = features\n",
        "        self.num_item = num_item\n",
        "        self.train_mat = train_mat\n",
        "        self.num_ng = num_ng\n",
        "        self.is_training = is_training\n",
        "        self.features_fill = []\n",
        "\n",
        "        if self.is_training:\n",
        "            self.ng_sample()\n",
        "\n",
        "    def ng_sample(self):\n",
        "        assert self.is_training, 'no need to sampling when testing'\n",
        "        for x in self.features:\n",
        "            u, i = x[0], x[1]\n",
        "            for t in range(self.num_ng):\n",
        "                j = np.random.randint(self.num_item)\n",
        "                while (u, j) in self.train_mat:\n",
        "                    j = np.random.randint(self.num_item)\n",
        "                self.features_fill.append([u, i, j])\n",
        "\n",
        "    def __len__(self):\n",
        "        return self.num_ng * len(self.features) if self.is_training else len(self.features)\n",
        "\n",
        "    def __getitem__(self, idx):\n",
        "        features = self.features_fill if self.is_training else self.features\n",
        "        user = features[idx][0]\n",
        "        item_i = features[idx][1]\n",
        "        item_j = features[idx][2] if self.is_training else features[idx][1]\n",
        "        return user, item_i, item_j\n",
        "\n",
        "\n",
        "class NCF(nn.Module):\n",
        "    def __init__(self, num_users, num_items, num_factors=32):\n",
        "        super(NCF, self).__init__()\n",
        "        self.user_factors = nn.Embedding(num_users, num_factors)\n",
        "        self.item_factors = nn.Embedding(num_items, num_factors)\n",
        "\n",
        "        self.fc1 = nn.Linear(num_factors * 2, 128)\n",
        "        self.fc2 = nn.Linear(128, 64)\n",
        "        self.fc3 = nn.Linear(64, 1)\n",
        "\n",
        "        self.relu = nn.ReLU()\n",
        "\n",
        "    def forward(self, user_ids, item_ids_i, item_ids_j):\n",
        "        user_embedding = self.user_factors(user_ids)\n",
        "        item_embedding_i = self.item_factors(item_ids_i)\n",
        "        item_embedding_j = self.item_factors(item_ids_j)\n",
        "\n",
        "\n",
        "        combined_i = torch.cat([user_embedding, item_embedding_i], dim=-1)\n",
        "        combined_j = torch.cat([user_embedding, item_embedding_j], dim=-1)\n",
        "\n",
        "\n",
        "        hidden_i = self.relu(self.fc1(combined_i))\n",
        "        hidden_j = self.relu(self.fc1(combined_j))\n",
        "\n",
        "        hidden_i = self.relu(self.fc2(hidden_i))\n",
        "        hidden_j = self.relu(self.fc2(hidden_j))\n",
        "\n",
        "\n",
        "        pred_i = self.fc3(hidden_i).squeeze()\n",
        "        pred_j = self.fc3(hidden_j).squeeze()\n",
        "\n",
        "        return pred_i, pred_j"
      ]
    },
    {
      "cell_type": "markdown",
      "source": [
        "### 데이터셋 준비"
      ],
      "metadata": {
        "id": "8ZFj9LFmFUoB"
      }
    },
    {
      "cell_type": "code",
      "execution_count": null,
      "metadata": {
        "colab": {
          "base_uri": "https://localhost:8080/"
        },
        "id": "X-OHd1bwJZJ4",
        "outputId": "4d11772f-f090-47b2-e730-3af48ed55c62"
      },
      "outputs": [
        {
          "output_type": "stream",
          "name": "stderr",
          "text": [
            "/usr/local/lib/python3.10/dist-packages/torch/utils/data/dataloader.py:617: UserWarning: This DataLoader will create 4 worker processes in total. Our suggested max number of worker in current system is 2, which is smaller than what this DataLoader is going to create. Please be aware that excessive worker creation might get DataLoader running slow or even freeze, lower the worker number to avoid potential slowness/freeze if necessary.\n",
            "  warnings.warn(\n"
          ]
        }
      ],
      "source": [
        "def load_all():\n",
        "    # 데이터 로드 및 전처리\n",
        "    train_data = pd.read_csv(train_checkin, sep='\\t', header=None, names=['user', 'item'],\n",
        "                             usecols=[0, 1], dtype={0: np.int32, 1: np.int32})\n",
        "\n",
        "    user_num = train_data['user'].max() + 1\n",
        "    item_num = train_data['item'].max() + 1\n",
        "    train_data = train_data.values.tolist()\n",
        "\n",
        "    train_mat = sp.dok_matrix((user_num, item_num), dtype=np.float32)\n",
        "    for x in train_data:\n",
        "        train_mat[x[0], x[1]] = 1.0\n",
        "\n",
        "    test_data = []\n",
        "    with open(test_negative, 'r') as fd:\n",
        "        line = fd.readline()\n",
        "        while line:\n",
        "            arr = line.split('\\t')\n",
        "            u = eval(arr[0])[0]\n",
        "            test_data.append([u, eval(arr[0])[1]])\n",
        "            for i in arr[1:]:\n",
        "                test_data.append([u, int(i)])\n",
        "            line = fd.readline()\n",
        "\n",
        "    return train_data, test_data, user_num, item_num, train_mat\n",
        "\n",
        "################# 데이터셋 준비 ##################\n",
        "train_data, test_data, user_num, item_num, train_mat = load_all()\n",
        "\n",
        "train_dataset = NCFData(train_data, item_num, train_mat, num_ng, True)\n",
        "test_dataset = NCFData(test_data, item_num, train_mat, 0, False)\n",
        "\n",
        "train_loader = DataLoader(train_dataset, batch_size=batch_size, shuffle=True, num_workers=4)\n",
        "test_loader = DataLoader(test_dataset, batch_size=test_num_ng + 1, shuffle=False, num_workers=0)\n"
      ]
    },
    {
      "cell_type": "markdown",
      "source": [
        "### 모델 생성"
      ],
      "metadata": {
        "id": "0_4fqK2NFaZQ"
      }
    },
    {
      "cell_type": "code",
      "execution_count": null,
      "metadata": {
        "id": "n8_FHQxmKHt9"
      },
      "outputs": [],
      "source": [
        "# 모델 초기화\n",
        "model = NCF(user_num, item_num, num_factors)\n",
        "model.cuda()\n",
        "optimizer = optim.Adam(model.parameters(), lr=lr)"
      ]
    },
    {
      "cell_type": "markdown",
      "source": [
        "### 훈련"
      ],
      "metadata": {
        "id": "g_LM6g3lFbxQ"
      }
    },
    {
      "cell_type": "code",
      "source": [
        "########################### 훈련 #####################################\n",
        "records_hr = []\n",
        "records_ngcg = []\n",
        "\n",
        "\n",
        "# 손실 함수\n",
        "def ncf_loss(pred_i, pred_j):\n",
        "    return - (pred_i - pred_j).sigmoid().log().mean()\n",
        "\n",
        "\n",
        "count, best_hr = 0, 0\n",
        "for epoch in range(epochs):\n",
        "    model.train()\n",
        "    start_time = time.time()\n",
        "    train_loader.dataset.ng_sample()\n",
        "\n",
        "    for user, item_i, item_j in train_loader:\n",
        "        user = user.cuda()\n",
        "        item_i = item_i.cuda()\n",
        "        item_j = item_j.cuda()\n",
        "\n",
        "        model.zero_grad()\n",
        "        prediction_i, prediction_j = model(user, item_i, item_j)\n",
        "\n",
        "        # 손실 계산\n",
        "        loss = ncf_loss(prediction_i, prediction_j)\n",
        "\n",
        "        # 역전파 및 파라미터 업데이트\n",
        "        loss.backward()\n",
        "        optimizer.step()\n",
        "\n",
        "        count += 1\n",
        "\n",
        "    # 성능 평가 및 출력\n",
        "    model.eval()\n",
        "    HR, NDCG = metrics(model, test_loader, top_k)\n",
        "\n",
        "    elapsed_time = time.time() - start_time\n",
        "    print(\"Epoch {:03d} - Time: {:.2f} HR: {:.3f} NDCG: {:.3f}\".format(epoch, elapsed_time, np.mean(HR), np.mean(NDCG)))\n",
        "\n",
        "    # 시각화 데이터 수집\n",
        "    records_hr.append(np.mean(HR))\n",
        "    records_ngcg.append(np.mean(NDCG))\n",
        "     # 종료 조건 확인\n",
        "    if epoch >= 59:  # epoch는 0부터 시작하므로 59까지 반복\n",
        "        print(\"Training stopped at epoch 60.\")\n",
        "        break\n",
        "\n",
        "    # if HR > best_hr:\n",
        "    #   best_hr, best_ndcg, best_epoch = HR, NDCG, epoch\n",
        "    #   if out:\n",
        "    #     if not os.path.exists(model_path):\n",
        "    #       os.mkdir(model_path)\n",
        "    #     torch.save(model, '{}BPR.pt'.format(model_path))\n",
        "\n",
        "      # print(\"End. Best epoch {:03d}: HR = {:.3f}, \\\n",
        "      #   NDCG = {:.3f}\".format(best_epoch, best_hr, best_ndcg))\n"
      ],
      "metadata": {
        "colab": {
          "base_uri": "https://localhost:8080/"
        },
        "id": "dcJ8otf3qqw1",
        "outputId": "f9476db0-63b9-4435-ddbd-1ffd79d9849e"
      },
      "execution_count": null,
      "outputs": [
        {
          "output_type": "stream",
          "name": "stderr",
          "text": [
            "/usr/local/lib/python3.10/dist-packages/torch/utils/data/dataloader.py:617: UserWarning: This DataLoader will create 4 worker processes in total. Our suggested max number of worker in current system is 2, which is smaller than what this DataLoader is going to create. Please be aware that excessive worker creation might get DataLoader running slow or even freeze, lower the worker number to avoid potential slowness/freeze if necessary.\n",
            "  warnings.warn(\n"
          ]
        },
        {
          "output_type": "stream",
          "name": "stdout",
          "text": [
            "Epoch 000 - Time: 13.36 HR: 0.107 NDCG: 0.061\n",
            "Epoch 001 - Time: 9.31 HR: 0.116 NDCG: 0.051\n",
            "Epoch 002 - Time: 11.22 HR: 0.124 NDCG: 0.058\n",
            "Epoch 003 - Time: 10.74 HR: 0.165 NDCG: 0.074\n",
            "Epoch 004 - Time: 11.71 HR: 0.099 NDCG: 0.052\n",
            "Epoch 005 - Time: 8.48 HR: 0.140 NDCG: 0.068\n",
            "Epoch 006 - Time: 11.05 HR: 0.140 NDCG: 0.064\n",
            "Epoch 007 - Time: 11.34 HR: 0.140 NDCG: 0.066\n",
            "Epoch 008 - Time: 9.83 HR: 0.132 NDCG: 0.059\n",
            "Epoch 009 - Time: 10.07 HR: 0.140 NDCG: 0.066\n",
            "Epoch 010 - Time: 10.89 HR: 0.165 NDCG: 0.074\n",
            "Epoch 011 - Time: 12.87 HR: 0.149 NDCG: 0.067\n",
            "Epoch 012 - Time: 8.99 HR: 0.174 NDCG: 0.073\n",
            "Epoch 013 - Time: 10.09 HR: 0.165 NDCG: 0.074\n",
            "Epoch 014 - Time: 12.43 HR: 0.198 NDCG: 0.085\n",
            "Epoch 015 - Time: 8.57 HR: 0.149 NDCG: 0.069\n",
            "Epoch 016 - Time: 9.99 HR: 0.182 NDCG: 0.083\n",
            "Epoch 017 - Time: 11.35 HR: 0.149 NDCG: 0.072\n",
            "Epoch 018 - Time: 12.40 HR: 0.165 NDCG: 0.075\n",
            "Epoch 019 - Time: 8.54 HR: 0.174 NDCG: 0.084\n",
            "Epoch 020 - Time: 10.17 HR: 0.182 NDCG: 0.086\n",
            "Epoch 021 - Time: 11.09 HR: 0.182 NDCG: 0.087\n",
            "Epoch 022 - Time: 8.65 HR: 0.190 NDCG: 0.083\n",
            "Epoch 023 - Time: 12.37 HR: 0.190 NDCG: 0.089\n",
            "Epoch 024 - Time: 10.25 HR: 0.174 NDCG: 0.085\n",
            "Epoch 025 - Time: 13.13 HR: 0.174 NDCG: 0.085\n",
            "Epoch 026 - Time: 8.96 HR: 0.190 NDCG: 0.089\n",
            "Epoch 027 - Time: 10.22 HR: 0.165 NDCG: 0.082\n",
            "Epoch 028 - Time: 11.42 HR: 0.190 NDCG: 0.089\n",
            "Epoch 029 - Time: 15.00 HR: 0.182 NDCG: 0.087\n",
            "Epoch 030 - Time: 8.74 HR: 0.182 NDCG: 0.088\n",
            "Epoch 031 - Time: 10.41 HR: 0.207 NDCG: 0.099\n",
            "Epoch 032 - Time: 11.27 HR: 0.207 NDCG: 0.098\n",
            "Epoch 033 - Time: 8.82 HR: 0.165 NDCG: 0.084\n",
            "Epoch 034 - Time: 10.37 HR: 0.174 NDCG: 0.083\n",
            "Epoch 035 - Time: 11.63 HR: 0.198 NDCG: 0.091\n",
            "Epoch 036 - Time: 9.51 HR: 0.182 NDCG: 0.088\n",
            "Epoch 037 - Time: 17.61 HR: 0.182 NDCG: 0.087\n",
            "Epoch 038 - Time: 9.26 HR: 0.190 NDCG: 0.093\n",
            "Epoch 039 - Time: 10.46 HR: 0.190 NDCG: 0.093\n",
            "Epoch 040 - Time: 11.67 HR: 0.190 NDCG: 0.086\n",
            "Epoch 041 - Time: 8.92 HR: 0.190 NDCG: 0.091\n",
            "Epoch 042 - Time: 10.45 HR: 0.157 NDCG: 0.081\n",
            "Epoch 043 - Time: 11.56 HR: 0.190 NDCG: 0.087\n",
            "Epoch 044 - Time: 9.71 HR: 0.165 NDCG: 0.079\n",
            "Epoch 045 - Time: 9.82 HR: 0.165 NDCG: 0.083\n",
            "Epoch 046 - Time: 15.75 HR: 0.174 NDCG: 0.081\n",
            "Epoch 047 - Time: 10.72 HR: 0.182 NDCG: 0.087\n",
            "Epoch 048 - Time: 11.78 HR: 0.165 NDCG: 0.079\n",
            "Epoch 049 - Time: 9.99 HR: 0.165 NDCG: 0.086\n",
            "Epoch 050 - Time: 11.55 HR: 0.174 NDCG: 0.086\n",
            "Epoch 051 - Time: 10.69 HR: 0.182 NDCG: 0.085\n",
            "Epoch 052 - Time: 11.78 HR: 0.157 NDCG: 0.078\n",
            "Epoch 053 - Time: 9.51 HR: 0.174 NDCG: 0.085\n",
            "Epoch 054 - Time: 10.82 HR: 0.157 NDCG: 0.081\n",
            "Epoch 055 - Time: 11.45 HR: 0.140 NDCG: 0.074\n",
            "Epoch 056 - Time: 11.05 HR: 0.165 NDCG: 0.079\n",
            "Epoch 057 - Time: 9.53 HR: 0.140 NDCG: 0.071\n",
            "Epoch 058 - Time: 19.87 HR: 0.165 NDCG: 0.081\n",
            "Epoch 059 - Time: 9.28 HR: 0.174 NDCG: 0.088\n",
            "Training stopped at epoch 60.\n"
          ]
        }
      ]
    },
    {
      "cell_type": "code",
      "source": [
        "import matplotlib.pyplot as plt\n",
        "\n",
        "# x축 데이터 (시간이나 인덱스 등)\n",
        "x = range(len(records_hr))\n",
        "\n",
        "# 꺽은선 그래프 그리기\n",
        "plt.plot(x, records_hr, label='HR'\n",
        "  #, marker='o'\n",
        "  )\n",
        "plt.plot(x, records_ngcg, label='NGCG'\n",
        "  #, marker='s'\n",
        "  )\n",
        "\n",
        "# 그래프 제목 및 축 레이블\n",
        "plt.title('Records Comparison')\n",
        "plt.xlabel('Time')\n",
        "plt.ylabel('Values')\n",
        "\n",
        "# 범례 추가\n",
        "plt.legend()\n",
        "\n",
        "# 그래프 보여주기\n",
        "plt.grid()\n",
        "plt.show()"
      ],
      "metadata": {
        "id": "nNyU7K8WErfz",
        "colab": {
          "base_uri": "https://localhost:8080/",
          "height": 472
        },
        "outputId": "075e6a33-9199-4964-9a5d-0aa9bf68bfc8"
      },
      "execution_count": null,
      "outputs": [
        {
          "output_type": "display_data",
          "data": {
            "text/plain": [
              "<Figure size 640x480 with 1 Axes>"
            ],
            "image/png": "[encoded data removed]"
          },
          "metadata": {}
        }
      ]
    },
    {
      "cell_type": "markdown",
      "source": [
        "#GMF 층을 결합하지 않은 MLP-based NCF\n"
      ],
      "metadata": {
        "id": "Mcc8d9-yi-Zg"
      }
    }
  ],
  "metadata": {
    "accelerator": "GPU",
    "colab": {
      "gpuType": "T4",
      "provenance": [],
      "include_colab_link": true
    },
    "kernelspec": {
      "display_name": "Python 3",
      "name": "python3"
    },
    "language_info": {
      "name": "python"
    }
  },
  "nbformat": 4,
  "nbformat_minor": 0
}