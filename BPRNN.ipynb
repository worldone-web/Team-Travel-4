{
  "nbformat": 4,
  "nbformat_minor": 0,
  "metadata": {
    "colab": {
      "provenance": [],
      "gpuType": "T4",
      "collapsed_sections": [
        "oRJ4e-3geKzK"
      ],
      "include_colab_link": true
    },
    "kernelspec": {
      "name": "python3",
      "display_name": "Python 3"
    },
    "language_info": {
      "name": "python"
    },
    "accelerator": "GPU"
  },
  "cells": [
    {
      "cell_type": "markdown",
      "metadata": {
        "id": "view-in-github",
        "colab_type": "text"
      },
      "source": [
        "<a href=\"https://colab.research.google.com/github/worldone-web/Team4-Traveler/blob/main/BPRNN.ipynb\" target=\"_parent\"><img src=\"https://colab.research.google.com/assets/colab-badge.svg\" alt=\"Open In Colab\"/></a>"
      ]
    },
    {
      "cell_type": "code",
      "execution_count": 1,
      "metadata": {
        "id": "ExHGnzW5eWLN",
        "colab": {
          "base_uri": "https://localhost:8080/"
        },
        "outputId": "270ad92e-e32d-470c-a58c-ad7deafa2372"
      },
      "outputs": [
        {
          "output_type": "stream",
          "name": "stdout",
          "text": [
            "Drive not mounted, so nothing to flush and unmount.\n",
            "Mounted at /content/drive\n"
          ]
        }
      ],
      "source": [
        "from google.colab import drive\n",
        "drive.flush_and_unmount()\n",
        "drive.mount('/content/drive', force_remount=True)\n"
      ]
    },
    {
      "cell_type": "code",
      "source": [
        "import torch\n",
        "import numpy as np\n",
        "import pandas as pd\n",
        "import random"
      ],
      "metadata": {
        "id": "OZg3G-jDfDiD"
      },
      "execution_count": 2,
      "outputs": []
    },
    {
      "cell_type": "code",
      "source": [
        "print(\"CUDA available:\", torch.cuda.is_available())\n",
        "print(\"CUDA version:\", torch.version.cuda)\n",
        "print(\"PyTorch version:\", torch.__version__)"
      ],
      "metadata": {
        "colab": {
          "base_uri": "https://localhost:8080/"
        },
        "id": "p0yMTWAOlC5L",
        "outputId": "cf0342ba-0a67-4376-a3f3-974e0291ae8a"
      },
      "execution_count": 3,
      "outputs": [
        {
          "output_type": "stream",
          "name": "stdout",
          "text": [
            "CUDA available: True\n",
            "CUDA version: 12.1\n",
            "PyTorch version: 2.5.0+cu121\n"
          ]
        }
      ]
    },
    {
      "cell_type": "code",
      "source": [
        "root_path = '/content/drive/MyDrive/G_Project/'\n",
        "\n",
        "train_checkin = root_path + 'train.csv'\n",
        "test_checkin = root_path + 'test.csv'\n",
        "test_negative = root_path + 'negative.csv'"
      ],
      "metadata": {
        "id": "hwfciPs-hSWO"
      },
      "execution_count": 5,
      "outputs": []
    },
    {
      "cell_type": "markdown",
      "source": [
        "## 데이터 생성"
      ],
      "metadata": {
        "id": "TOl16DqshP2K"
      }
    },
    {
      "cell_type": "code",
      "source": [
        "df = pd.read_csv(root_path + \"philadelphia_checkin_small.csv\")\n",
        "df.head()"
      ],
      "metadata": {
        "colab": {
          "base_uri": "https://localhost:8080/",
          "height": 206
        },
        "id": "mrurm_E6iool",
        "outputId": "860af204-35a9-4c47-fbe8-4c1cd79a3fa8"
      },
      "execution_count": 6,
      "outputs": [
        {
          "output_type": "execute_result",
          "data": {
            "text/plain": [
              "   newUserId  newBusinessId\n",
              "0          1              1\n",
              "1          2              1\n",
              "2          3              1\n",
              "3          4              1\n",
              "4          5              1"
            ],
            "text/html": [
              "\n",
              "  <div id=\"df-dba3aeab-2d51-469c-b2d7-9b5db9071807\" class=\"colab-df-container\">\n",
              "    <div>\n",
              "<style scoped>\n",
              "    .dataframe tbody tr th:only-of-type {\n",
              "        vertical-align: middle;\n",
              "    }\n",
              "\n",
              "    .dataframe tbody tr th {\n",
              "        vertical-align: top;\n",
              "    }\n",
              "\n",
              "    .dataframe thead th {\n",
              "        text-align: right;\n",
              "    }\n",
              "</style>\n",
              "<table border=\"1\" class=\"dataframe\">\n",
              "  <thead>\n",
              "    <tr style=\"text-align: right;\">\n",
              "      <th></th>\n",
              "      <th>newUserId</th>\n",
              "      <th>newBusinessId</th>\n",
              "    </tr>\n",
              "  </thead>\n",
              "  <tbody>\n",
              "    <tr>\n",
              "      <th>0</th>\n",
              "      <td>1</td>\n",
              "      <td>1</td>\n",
              "    </tr>\n",
              "    <tr>\n",
              "      <th>1</th>\n",
              "      <td>2</td>\n",
              "      <td>1</td>\n",
              "    </tr>\n",
              "    <tr>\n",
              "      <th>2</th>\n",
              "      <td>3</td>\n",
              "      <td>1</td>\n",
              "    </tr>\n",
              "    <tr>\n",
              "      <th>3</th>\n",
              "      <td>4</td>\n",
              "      <td>1</td>\n",
              "    </tr>\n",
              "    <tr>\n",
              "      <th>4</th>\n",
              "      <td>5</td>\n",
              "      <td>1</td>\n",
              "    </tr>\n",
              "  </tbody>\n",
              "</table>\n",
              "</div>\n",
              "    <div class=\"colab-df-buttons\">\n",
              "\n",
              "  <div class=\"colab-df-container\">\n",
              "    <button class=\"colab-df-convert\" onclick=\"convertToInteractive('df-dba3aeab-2d51-469c-b2d7-9b5db9071807')\"\n",
              "            title=\"Convert this dataframe to an interactive table.\"\n",
              "            style=\"display:none;\">\n",
              "\n",
              "  <svg xmlns=\"http://www.w3.org/2000/svg\" height=\"24px\" viewBox=\"0 -960 960 960\">\n",
              "    <path d=\"M120-120v-720h720v720H120Zm60-500h600v-160H180v160Zm220 220h160v-160H400v160Zm0 220h160v-160H400v160ZM180-400h160v-160H180v160Zm440 0h160v-160H620v160ZM180-180h160v-160H180v160Zm440 0h160v-160H620v160Z\"/>\n",
              "  </svg>\n",
              "    </button>\n",
              "\n",
              "  <style>\n",
              "    .colab-df-container {\n",
              "      display:flex;\n",
              "      gap: 12px;\n",
              "    }\n",
              "\n",
              "    .colab-df-convert {\n",
              "      background-color: #E8F0FE;\n",
              "      border: none;\n",
              "      border-radius: 50%;\n",
              "      cursor: pointer;\n",
              "      display: none;\n",
              "      fill: #1967D2;\n",
              "      height: 32px;\n",
              "      padding: 0 0 0 0;\n",
              "      width: 32px;\n",
              "    }\n",
              "\n",
              "    .colab-df-convert:hover {\n",
              "      background-color: #E2EBFA;\n",
              "      box-shadow: 0px 1px 2px rgba(60, 64, 67, 0.3), 0px 1px 3px 1px rgba(60, 64, 67, 0.15);\n",
              "      fill: #174EA6;\n",
              "    }\n",
              "\n",
              "    .colab-df-buttons div {\n",
              "      margin-bottom: 4px;\n",
              "    }\n",
              "\n",
              "    [theme=dark] .colab-df-convert {\n",
              "      background-color: #3B4455;\n",
              "      fill: #D2E3FC;\n",
              "    }\n",
              "\n",
              "    [theme=dark] .colab-df-convert:hover {\n",
              "      background-color: #434B5C;\n",
              "      box-shadow: 0px 1px 3px 1px rgba(0, 0, 0, 0.15);\n",
              "      filter: drop-shadow(0px 1px 2px rgba(0, 0, 0, 0.3));\n",
              "      fill: #FFFFFF;\n",
              "    }\n",
              "  </style>\n",
              "\n",
              "    <script>\n",
              "      const buttonEl =\n",
              "        document.querySelector('#df-dba3aeab-2d51-469c-b2d7-9b5db9071807 button.colab-df-convert');\n",
              "      buttonEl.style.display =\n",
              "        google.colab.kernel.accessAllowed ? 'block' : 'none';\n",
              "\n",
              "      async function convertToInteractive(key) {\n",
              "        const element = document.querySelector('#df-dba3aeab-2d51-469c-b2d7-9b5db9071807');\n",
              "        const dataTable =\n",
              "          await google.colab.kernel.invokeFunction('convertToInteractive',\n",
              "                                                    [key], {});\n",
              "        if (!dataTable) return;\n",
              "\n",
              "        const docLinkHtml = 'Like what you see? Visit the ' +\n",
              "          '<a target=\"_blank\" href=https://colab.research.google.com/notebooks/data_table.ipynb>data table notebook</a>'\n",
              "          + ' to learn more about interactive tables.';\n",
              "        element.innerHTML = '';\n",
              "        dataTable['output_type'] = 'display_data';\n",
              "        await google.colab.output.renderOutput(dataTable, element);\n",
              "        const docLink = document.createElement('div');\n",
              "        docLink.innerHTML = docLinkHtml;\n",
              "        element.appendChild(docLink);\n",
              "      }\n",
              "    </script>\n",
              "  </div>\n",
              "\n",
              "\n",
              "<div id=\"df-11a2d129-991e-4cc6-9d87-293622498b62\">\n",
              "  <button class=\"colab-df-quickchart\" onclick=\"quickchart('df-11a2d129-991e-4cc6-9d87-293622498b62')\"\n",
              "            title=\"Suggest charts\"\n",
              "            style=\"display:none;\">\n",
              "\n",
              "<svg xmlns=\"http://www.w3.org/2000/svg\" height=\"24px\"viewBox=\"0 0 24 24\"\n",
              "     width=\"24px\">\n",
              "    <g>\n",
              "        <path d=\"M19 3H5c-1.1 0-2 .9-2 2v14c0 1.1.9 2 2 2h14c1.1 0 2-.9 2-2V5c0-1.1-.9-2-2-2zM9 17H7v-7h2v7zm4 0h-2V7h2v10zm4 0h-2v-4h2v4z\"/>\n",
              "    </g>\n",
              "</svg>\n",
              "  </button>\n",
              "\n",
              "<style>\n",
              "  .colab-df-quickchart {\n",
              "      --bg-color: #E8F0FE;\n",
              "      --fill-color: #1967D2;\n",
              "      --hover-bg-color: #E2EBFA;\n",
              "      --hover-fill-color: #174EA6;\n",
              "      --disabled-fill-color: #AAA;\n",
              "      --disabled-bg-color: #DDD;\n",
              "  }\n",
              "\n",
              "  [theme=dark] .colab-df-quickchart {\n",
              "      --bg-color: #3B4455;\n",
              "      --fill-color: #D2E3FC;\n",
              "      --hover-bg-color: #434B5C;\n",
              "      --hover-fill-color: #FFFFFF;\n",
              "      --disabled-bg-color: #3B4455;\n",
              "      --disabled-fill-color: #666;\n",
              "  }\n",
              "\n",
              "  .colab-df-quickchart {\n",
              "    background-color: var(--bg-color);\n",
              "    border: none;\n",
              "    border-radius: 50%;\n",
              "    cursor: pointer;\n",
              "    display: none;\n",
              "    fill: var(--fill-color);\n",
              "    height: 32px;\n",
              "    padding: 0;\n",
              "    width: 32px;\n",
              "  }\n",
              "\n",
              "  .colab-df-quickchart:hover {\n",
              "    background-color: var(--hover-bg-color);\n",
              "    box-shadow: 0 1px 2px rgba(60, 64, 67, 0.3), 0 1px 3px 1px rgba(60, 64, 67, 0.15);\n",
              "    fill: var(--button-hover-fill-color);\n",
              "  }\n",
              "\n",
              "  .colab-df-quickchart-complete:disabled,\n",
              "  .colab-df-quickchart-complete:disabled:hover {\n",
              "    background-color: var(--disabled-bg-color);\n",
              "    fill: var(--disabled-fill-color);\n",
              "    box-shadow: none;\n",
              "  }\n",
              "\n",
              "  .colab-df-spinner {\n",
              "    border: 2px solid var(--fill-color);\n",
              "    border-color: transparent;\n",
              "    border-bottom-color: var(--fill-color);\n",
              "    animation:\n",
              "      spin 1s steps(1) infinite;\n",
              "  }\n",
              "\n",
              "  @keyframes spin {\n",
              "    0% {\n",
              "      border-color: transparent;\n",
              "      border-bottom-color: var(--fill-color);\n",
              "      border-left-color: var(--fill-color);\n",
              "    }\n",
              "    20% {\n",
              "      border-color: transparent;\n",
              "      border-left-color: var(--fill-color);\n",
              "      border-top-color: var(--fill-color);\n",
              "    }\n",
              "    30% {\n",
              "      border-color: transparent;\n",
              "      border-left-color: var(--fill-color);\n",
              "      border-top-color: var(--fill-color);\n",
              "      border-right-color: var(--fill-color);\n",
              "    }\n",
              "    40% {\n",
              "      border-color: transparent;\n",
              "      border-right-color: var(--fill-color);\n",
              "      border-top-color: var(--fill-color);\n",
              "    }\n",
              "    60% {\n",
              "      border-color: transparent;\n",
              "      border-right-color: var(--fill-color);\n",
              "    }\n",
              "    80% {\n",
              "      border-color: transparent;\n",
              "      border-right-color: var(--fill-color);\n",
              "      border-bottom-color: var(--fill-color);\n",
              "    }\n",
              "    90% {\n",
              "      border-color: transparent;\n",
              "      border-bottom-color: var(--fill-color);\n",
              "    }\n",
              "  }\n",
              "</style>\n",
              "\n",
              "  <script>\n",
              "    async function quickchart(key) {\n",
              "      const quickchartButtonEl =\n",
              "        document.querySelector('#' + key + ' button');\n",
              "      quickchartButtonEl.disabled = true;  // To prevent multiple clicks.\n",
              "      quickchartButtonEl.classList.add('colab-df-spinner');\n",
              "      try {\n",
              "        const charts = await google.colab.kernel.invokeFunction(\n",
              "            'suggestCharts', [key], {});\n",
              "      } catch (error) {\n",
              "        console.error('Error during call to suggestCharts:', error);\n",
              "      }\n",
              "      quickchartButtonEl.classList.remove('colab-df-spinner');\n",
              "      quickchartButtonEl.classList.add('colab-df-quickchart-complete');\n",
              "    }\n",
              "    (() => {\n",
              "      let quickchartButtonEl =\n",
              "        document.querySelector('#df-11a2d129-991e-4cc6-9d87-293622498b62 button');\n",
              "      quickchartButtonEl.style.display =\n",
              "        google.colab.kernel.accessAllowed ? 'block' : 'none';\n",
              "    })();\n",
              "  </script>\n",
              "</div>\n",
              "\n",
              "    </div>\n",
              "  </div>\n"
            ],
            "application/vnd.google.colaboratory.intrinsic+json": {
              "type": "dataframe",
              "variable_name": "df"
            }
          },
          "metadata": {},
          "execution_count": 6
        }
      ]
    },
    {
      "cell_type": "markdown",
      "source": [
        "### split_train_test"
      ],
      "metadata": {
        "id": "UR1qdlnjkZC7"
      }
    },
    {
      "cell_type": "code",
      "source": [
        "# 각 사용자별로 n번째 음식점 방문기록 까지 데이터를 테스트 데이터로, 나머지를 트레이닝 데이터로 분리하는 함수\n",
        "def split_train_test_data(df, n=3, user_col='newUserId', item_col='newBusinessId', output_dir='.'):\n",
        "    train_data = []\n",
        "    test_data = []\n",
        "\n",
        "    # 사용자별로 그룹화하여 처리\n",
        "    for user_id, group in df.groupby(user_col):\n",
        "        # 첫 번째부터 n번째 음식점 방문 기록을 test_data로 추가\n",
        "        test_data.extend(group.iloc[:n].values.tolist())\n",
        "\n",
        "        # n+1번째부터 마지막 음식점 방문 기록을 train_data로 추가\n",
        "        train_data.extend(group.iloc[n:].values.tolist())\n",
        "\n",
        "    train_df = pd.DataFrame(train_data, columns=[user_col, item_col])\n",
        "    test_df = pd.DataFrame(test_data, columns=[user_col, item_col])\n",
        "\n",
        "\n",
        "    train_size = train_df.shape\n",
        "    test_size = test_df.shape\n",
        "    print(\"Train 데이터 크기:\", train_size)\n",
        "    print(\"Test 데이터 크기:\", test_size)\n",
        "    print(\"Test 데이터 크기 / Train 데이터 크기 비율:\", test_size[0] / train_size[0]) # 전체 크기의 대략 10%\n",
        "\n",
        "    # CSV 파일로 저장\n",
        "    train_df.to_csv(output_dir + \"train.csv\", index=False, header=False, sep='\\t')\n",
        "    test_df.to_csv(output_dir + \"test.csv\", index=False, header=False, sep='\\t')\n",
        "\n",
        "    print(\"'train.csv'와 'test.csv' 파일이 생성되었습니다.\")\n",
        "\n",
        "split_train_test_data(df, n=3, output_dir=root_path)"
      ],
      "metadata": {
        "colab": {
          "base_uri": "https://localhost:8080/"
        },
        "id": "DjnXfrqSjBV7",
        "outputId": "ccf816fe-a0f9-4766-e000-7924b5ab022c"
      },
      "execution_count": 7,
      "outputs": [
        {
          "output_type": "stream",
          "name": "stdout",
          "text": [
            "Train 데이터 크기: (296794, 2)\n",
            "Test 데이터 크기: (36185, 2)\n",
            "Test 데이터 크기 / Train 데이터 크기 비율: 0.12191958058451316\n",
            "'train.csv'와 'test.csv' 파일이 생성되었습니다.\n"
          ]
        }
      ]
    },
    {
      "cell_type": "markdown",
      "source": [
        "### generate_negative"
      ],
      "metadata": {
        "id": "MB2QwGWDkdAh"
      }
    },
    {
      "cell_type": "code",
      "source": [
        "# 각 사용자별로 부정적인 조합 생성\n",
        "def generate_negative_samples(df, n=100, user_col='newUserId', item_col='newBusinessId', output_dir='.'):\n",
        "    # 사용자와 음식점 집합 구하기\n",
        "    users = df[user_col].unique()\n",
        "    businesses = df[item_col].unique()\n",
        "\n",
        "    # 사용자별로 부정적인 조합 저장\n",
        "    user_negative_samples = {}\n",
        "\n",
        "    # 각 사용자에 대해 부정적인 조합 생성\n",
        "    for user in users:\n",
        "        # 사용자가 방문한 음식점 집합\n",
        "        user_visited_businesses = set(df[df[user_col] == user][item_col].unique())\n",
        "\n",
        "        # 사용자가 방문하지 않은 음식점 찾기\n",
        "        user_not_visited_businesses = list(set(businesses) - user_visited_businesses)\n",
        "\n",
        "        # 랜덤 샘플링하여 부정적인 조합 생성\n",
        "        if len(user_not_visited_businesses) > n: #n개 이상이면 데이터가 많아지니 제한을 둠\n",
        "            user_negative_samples[user] = random.sample(user_not_visited_businesses, n)\n",
        "        else:\n",
        "            user_negative_samples[user] = user_not_visited_businesses\n",
        "\n",
        "    # 부정적인 조합을 CSV 파일로 저장\n",
        "    with open(output_dir+ \"negative.csv\", 'w') as f:\n",
        "        for user, negatives in user_negative_samples.items():\n",
        "            f.write(f\"{user},{','.join(map(str, negatives))}\\n\")\n",
        "\n",
        "    print(\"파일 'negative.csv'가 생성되었습니다.\")\n",
        "\n",
        "generate_negative_samples(df, n=100, output_dir=root_path)"
      ],
      "metadata": {
        "colab": {
          "base_uri": "https://localhost:8080/"
        },
        "id": "iWpNOChqkQbj",
        "outputId": "e3e8417d-782f-4041-e2a0-4e57325c103f"
      },
      "execution_count": 8,
      "outputs": [
        {
          "output_type": "stream",
          "name": "stdout",
          "text": [
            "파일 'negative.csv'가 생성되었습니다.\n"
          ]
        }
      ]
    },
    {
      "cell_type": "markdown",
      "source": [
        "### generate_individual_negative"
      ],
      "metadata": {
        "id": "jJthDlYkkgPl"
      }
    },
    {
      "cell_type": "code",
      "source": [
        "# 개인별로 방문하지 않은 음식점 샘플링\n",
        "def generate_individual_negative_sample(df, user_id, n=100, user_col='newUserId', item_col='newBusinessId'):\n",
        "    # 모든 음식점 목록 가져오기\n",
        "    businesses = df[item_col].unique()\n",
        "    # 사용자가 방문한 음식점 목록 가져오기\n",
        "    user_visited_businesses = set(df[df[user_col] == user_id][item_col].unique())\n",
        "    # 사용자가 방문하지 않은 음식점 목록 계산\n",
        "    user_not_visited_businesses = list(set(businesses) - user_visited_businesses)\n",
        "    # 방문하지 않은 음식점 중에서 n개를 랜덤으로 샘플링\n",
        "    if len(user_not_visited_businesses) > n:\n",
        "        random_negative = random.sample(user_not_visited_businesses, n)\n",
        "    else:\n",
        "        random_negative = user_not_visited_businesses\n",
        "    return random_negative\n",
        "\n",
        "\n",
        "# testData를 위한 부정적인 음식점 샘플링\n",
        "with open(root_path + 'negative.csv', 'r') as negative_file \\\n",
        "  , open(root_path + 'test.csv', 'r') as test_file \\\n",
        "  , open(root_path + 'test_negative.csv', 'w') as test_negative_file:\n",
        "    read_negative = negative_file.readlines()\n",
        "    read_test = test_file.readlines()\n",
        "    print(len(read_negative))  # 12062 -> 사용자 수만큼 개인별로 방문하지 않은 음식점 집합 완성\n",
        "\n",
        "    for i in range(len(read_negative)):  # 각 사용자에 대해\n",
        "        negative = read_negative[i]  # 사용자 i에 대한 방문하지 않은 음식점 집합 가져오기\n",
        "        user_id, user_id_negative_businesses = negative.strip().split(',', 1)  # 사용자 ID와 방문하지 않은 음식점 구분\n",
        "        #user_id_negative_businesses = user_id_negative_businesses.split(',')  # 방문하지 않은 음식점들을 리스트로 분리\n",
        "\n",
        "        for j in range(i * 3, (i + 1) * 3):  # 각 사용자의 3개의 음식점 방문기록\n",
        "            test = read_test[j % len(read_test)]  # 테스트 데이터 중 해당 사용자의 음식점 방문기록\n",
        "            user_trip = test.strip()  # 공백 제거\n",
        "\n",
        "            # 개별 사용자의 부정적인 음식점 생성\n",
        "            individual_negative_sample = generate_individual_negative_sample(df, int(user_id), n=100)\n",
        "\n",
        "            # 테스트 데이터와 부정적인 샘플을 결합하여 git에 있는 BPR모델 입력에 맞게 변환\n",
        "            test_negative_business = user_trip + '\\t' + '\\t'.join(map(str, individual_negative_sample)) + '\\n'\n",
        "            test_negative_file.write(test_negative_business)\n",
        "\n",
        "print(\"파일 'test_negative.csv'가 생성되었습니다.\")"
      ],
      "metadata": {
        "id": "ItpCQ8zfejTZ",
        "colab": {
          "base_uri": "https://localhost:8080/"
        },
        "outputId": "8949a516-aa16-4d64-b435-bed43e83ef4e"
      },
      "execution_count": null,
      "outputs": [
        {
          "output_type": "stream",
          "name": "stdout",
          "text": [
            "12062\n",
            "파일 'test_negative.csv'가 생성되었습니다.\n"
          ]
        }
      ]
    },
    {
      "cell_type": "markdown",
      "source": [
        "## 모델 생성"
      ],
      "metadata": {
        "id": "7meiV6WLlB-g"
      }
    },
    {
      "cell_type": "markdown",
      "source": [
        "### 평가함수"
      ],
      "metadata": {
        "id": "oRJ4e-3geKzK"
      }
    },
    {
      "cell_type": "code",
      "source": [
        "def hit(gt_item, pred_items):\n",
        "\tif gt_item in pred_items:\n",
        "\t\treturn 1\n",
        "\treturn 0\n",
        "\n",
        "\n",
        "def ndcg(gt_item, pred_items):\n",
        "\tif gt_item in pred_items:\n",
        "\t\tindex = pred_items.index(gt_item)\n",
        "\t\treturn np.reciprocal(np.log2(index+2))\n",
        "\treturn 0\n",
        "\n",
        "\n",
        "def metrics(model, test_loader, top_k):\n",
        "\t# HR: 전체 사용자 수 대비 적중한 사용자 수\n",
        "\t# NDCG: '사용자'와 '추천한 아이템'의 '관련성'에 대해 추천 순서에 따라 가중치를 주어 합한뒤 정규화한 것\n",
        "\tHR, NDCG = [], []\n",
        "\n",
        "\tfor user, item_i, item_j in test_loader:\n",
        "\t\tuser = user.cuda()\n",
        "\t\titem_i = item_i.cuda()\n",
        "\t\titem_j = item_j.cuda() # not useful when testing\n",
        "\n",
        "\t\tprediction_i, prediction_j = model(user, item_i, item_j)\n",
        "\t\t_, indices = torch.topk(prediction_i, top_k)\n",
        "\t\trecommends = torch.take(\n",
        "\t\t\t\titem_i, indices).cpu().numpy().tolist()\n",
        "\n",
        "\t\tgt_item = item_i[0].item()\n",
        "\t\tHR.append(hit(gt_item, recommends))\n",
        "\t\tNDCG.append(ndcg(gt_item, recommends))\n",
        "\n",
        "\treturn np.mean(HR), np.mean(NDCG)"
      ],
      "metadata": {
        "id": "cDJmZQMaeeIe"
      },
      "execution_count": 9,
      "outputs": []
    },
    {
      "cell_type": "markdown",
      "source": [
        "### 모델"
      ],
      "metadata": {
        "id": "-qP8A0YSlZ3V"
      }
    },
    {
      "cell_type": "code",
      "source": [
        "import torch\n",
        "import torch.nn as nn\n",
        "import torch.optim as optim\n",
        "from torch.utils.data import Dataset, DataLoader\n",
        "from sklearn.model_selection import train_test_split\n",
        "\n",
        "import os\n",
        "import time\n",
        "import numpy as np\n",
        "import torch.backends.cudnn as cudnn\n",
        "\n",
        "import pandas as pd\n",
        "import scipy.sparse as sp\n",
        "import random\n",
        "import torch.utils.data as data"
      ],
      "metadata": {
        "id": "Xsgw8Ae9nGgz"
      },
      "execution_count": 10,
      "outputs": []
    },
    {
      "cell_type": "code",
      "source": [
        "# 하드코딩된 기본값 설정\n",
        "lr = 0.001\n",
        "lamda = 0.001\n",
        "batch_size = 4096\n",
        "epochs = 100\n",
        "top_k = 10\n",
        "num_factors = 32\n",
        "num_ng = 4\n",
        "test_num_ng = 99\n",
        "out = True"
      ],
      "metadata": {
        "id": "DPiXAV_5nI-R"
      },
      "execution_count": 11,
      "outputs": []
    },
    {
      "cell_type": "code",
      "source": [
        "class BPRData(Dataset):\n",
        "    def __init__(self, features, num_item, train_mat=None, num_ng=0, is_training=None):\n",
        "        super(BPRData, self).__init__()\n",
        "        self.features = features\n",
        "        self.num_item = num_item\n",
        "        self.train_mat = train_mat\n",
        "        self.num_ng = num_ng\n",
        "        self.is_training = is_training\n",
        "\n",
        "    def ng_sample(self):\n",
        "        assert self.is_training, 'no need to sampling when testing'\n",
        "        self.features_fill = []\n",
        "        for x in self.features:\n",
        "            u, i = x[0], x[1]\n",
        "            for t in range(self.num_ng):\n",
        "                j = np.random.randint(self.num_item)\n",
        "                while (u, j) in self.train_mat:\n",
        "                    j = np.random.randint(self.num_item)\n",
        "                self.features_fill.append([u, i, j])\n",
        "\n",
        "    def __len__(self):\n",
        "        return self.num_ng * len(self.features) if self.is_training else len(self.features)\n",
        "\n",
        "    def __getitem__(self, idx):\n",
        "        features = self.features_fill if self.is_training else self.features\n",
        "        user = features[idx][0]\n",
        "        item_i = features[idx][1]\n",
        "        item_j = features[idx][2] if self.is_training else features[idx][1]\n",
        "        return user, item_i, item_j\n",
        "\n",
        "\n",
        "class BPRNN(nn.Module):\n",
        "    def __init__(self, num_users, num_items, num_factors=32):\n",
        "        super(BPRNN, self).__init__()\n",
        "        self.user_factors = nn.Embedding(num_users, num_factors)\n",
        "        self.item_factors = nn.Embedding(num_items, num_factors)\n",
        "        self.fc1 = nn.Linear(num_factors * 2, 128)  # 임베딩 결합 후 첫 번째 완전 연결층\n",
        "        self.fc2 = nn.Linear(128, 64)  # 임베딩 결합 후 첫 번째 완전 연결층\n",
        "        self.fc3 = nn.Linear(64, 1)  # 출력층\n",
        "        self.relu = nn.ReLU()\n",
        "\n",
        "    def forward(self, user_ids, item_ids_i, item_ids_j):\n",
        "        user_embedding = self.user_factors(user_ids)\n",
        "        item_embedding_i = self.item_factors(item_ids_i)\n",
        "        item_embedding_j = self.item_factors(item_ids_j)\n",
        "\n",
        "        # 임베딩을 결합\n",
        "        combined_i = torch.cat([user_embedding, item_embedding_i], dim=-1)\n",
        "        combined_j = torch.cat([user_embedding, item_embedding_j], dim=-1)\n",
        "\n",
        "        # 신경망을 통한 예측\n",
        "        hidden_i = self.relu(self.fc1(combined_i))\n",
        "        hidden_j = self.relu(self.fc1(combined_j))\n",
        "\n",
        "        # 은닉층 통과\n",
        "        hidden_i = self.relu(self.fc2(hidden_i))\n",
        "        hidden_j = self.relu(self.fc2(hidden_j))\n",
        "\n",
        "        # 출력층 통과\n",
        "        pred_i = self.fc3(hidden_i).squeeze()  # 아이템 i에 대한 예측 점수\n",
        "        pred_j = self.fc3(hidden_j).squeeze()  # 아이템 j에 대한 예측 점수\n",
        "\n",
        "        return pred_i, pred_j"
      ],
      "metadata": {
        "id": "RFd6IIC0nNf-"
      },
      "execution_count": 12,
      "outputs": []
    },
    {
      "cell_type": "markdown",
      "source": [
        "### 데이터셋 준비"
      ],
      "metadata": {
        "id": "UMBiyWgbnmnz"
      }
    },
    {
      "cell_type": "code",
      "source": [
        "def load_all():\n",
        "    # 데이터 로드 및 전처리\n",
        "    train_data = pd.read_csv(train_checkin, sep='\\t', header=None, names=['user', 'item'],\n",
        "                             usecols=[0, 1], dtype={0: np.int32, 1: np.int32})\n",
        "\n",
        "    user_num = train_data['user'].max() + 1\n",
        "    item_num = train_data['item'].max() + 1\n",
        "    train_data = train_data.values.tolist()\n",
        "\n",
        "    train_mat = sp.dok_matrix((user_num, item_num), dtype=np.float32)\n",
        "    for x in train_data:\n",
        "        train_mat[x[0], x[1]] = 1.0\n",
        "\n",
        "    test_data = []\n",
        "    with open(test_negative, 'r') as fd:\n",
        "        line = fd.readline()\n",
        "        while line:\n",
        "            arr = line.split('\\t')\n",
        "            u = eval(arr[0])[0]\n",
        "            test_data.append([u, eval(arr[0])[1]])\n",
        "            for i in arr[1:]:\n",
        "                test_data.append([u, int(i)])\n",
        "            line = fd.readline()\n",
        "\n",
        "    return train_data, test_data, user_num, item_num, train_mat\n",
        "\n",
        "################# 데이터셋 준비 ##################\n",
        "train_data, test_data, user_num, item_num, train_mat = load_all()\n",
        "\n",
        "train_dataset = BPRData(train_data, item_num, train_mat, num_ng, True)\n",
        "test_dataset = BPRData(test_data, item_num, train_mat, 0, False)\n",
        "\n",
        "train_loader = DataLoader(train_dataset, batch_size=batch_size, shuffle=True, num_workers=4)\n",
        "test_loader = DataLoader(test_dataset, batch_size=test_num_ng + 1, shuffle=False, num_workers=0)"
      ],
      "metadata": {
        "colab": {
          "base_uri": "https://localhost:8080/"
        },
        "id": "YZNBLGpungLD",
        "outputId": "77884725-47fc-4ab7-a93e-11bf4bbf7969"
      },
      "execution_count": 14,
      "outputs": [
        {
          "output_type": "stream",
          "name": "stderr",
          "text": [
            "/usr/local/lib/python3.10/dist-packages/torch/utils/data/dataloader.py:617: UserWarning: This DataLoader will create 4 worker processes in total. Our suggested max number of worker in current system is 2, which is smaller than what this DataLoader is going to create. Please be aware that excessive worker creation might get DataLoader running slow or even freeze, lower the worker number to avoid potential slowness/freeze if necessary.\n",
            "  warnings.warn(\n"
          ]
        }
      ]
    },
    {
      "cell_type": "markdown",
      "source": [
        "### 모델 생성"
      ],
      "metadata": {
        "id": "MNZsEYixnulV"
      }
    },
    {
      "cell_type": "code",
      "source": [
        "\n",
        "################# 모델 생성 ##################\n",
        "model = BPRNN(user_num, item_num, num_factors)\n",
        "model.cuda()\n",
        "\n",
        "optimizer = optim.SGD(model.parameters(), lr=lr, weight_decay=lamda)\n"
      ],
      "metadata": {
        "id": "WdRO3_GFnxji"
      },
      "execution_count": 15,
      "outputs": []
    },
    {
      "cell_type": "markdown",
      "source": [
        "### 훈련"
      ],
      "metadata": {
        "id": "MquqI4pBn0Vj"
      }
    },
    {
      "cell_type": "code",
      "source": [
        "########################### 훈련 #####################################\n",
        "records_hr = []\n",
        "records_ngcg = []\n",
        "\n",
        "count, best_hr = 0, 0\n",
        "for epoch in range(epochs):\n",
        "    model.train()\n",
        "    start_time = time.time()\n",
        "    train_loader.dataset.ng_sample()\n",
        "\n",
        "    for user, item_i, item_j in train_loader:\n",
        "        user = user.cuda()\n",
        "        item_i = item_i.cuda()\n",
        "        item_j = item_j.cuda()\n",
        "\n",
        "        model.zero_grad()\n",
        "        prediction_i, prediction_j = model(user, item_i, item_j)\n",
        "\n",
        "        # 손실 계산\n",
        "        loss = - (prediction_i - prediction_j).sigmoid().log().sum()\n",
        "\n",
        "        # 역전파 및 파라미터 업데이트\n",
        "        loss.backward()\n",
        "        optimizer.step()\n",
        "\n",
        "        count += 1\n",
        "\n",
        "    # 성능 평가 및 출력\n",
        "    model.eval()\n",
        "    HR, NDCG = metrics(model, test_loader, top_k)\n",
        "\n",
        "    elapsed_time = time.time() - start_time\n",
        "    print(\"Epoch {:03d} - Time: {:.2f} HR: {:.3f} NDCG: {:.3f}\".format(epoch, elapsed_time, np.mean(HR), np.mean(NDCG)))\n",
        "\n",
        "    # 시각화 데이터 수집\n",
        "    records_hr.append(np.mean(HR))\n",
        "    records_ngcg.append(np.mean(NDCG))\n",
        "\n",
        "    # if HR > best_hr:\n",
        "    #   best_hr, best_ndcg, best_epoch = HR, NDCG, epoch\n",
        "    #   if out:\n",
        "    #     if not os.path.exists(model_path):\n",
        "    #       os.mkdir(model_path)\n",
        "    #     torch.save(model, '{}BPR.pt'.format(model_path))\n",
        "\n",
        "      # print(\"End. Best epoch {:03d}: HR = {:.3f}, \\\n",
        "      #   NDCG = {:.3f}\".format(best_epoch, best_hr, best_ndcg))\n"
      ],
      "metadata": {
        "id": "VzTCV80_e7dY",
        "colab": {
          "base_uri": "https://localhost:8080/"
        },
        "outputId": "e7bb67b6-d0d0-4d8f-ea36-305c71250fbc"
      },
      "execution_count": 16,
      "outputs": [
        {
          "output_type": "stream",
          "name": "stderr",
          "text": [
            "/usr/local/lib/python3.10/dist-packages/torch/utils/data/dataloader.py:617: UserWarning: This DataLoader will create 4 worker processes in total. Our suggested max number of worker in current system is 2, which is smaller than what this DataLoader is going to create. Please be aware that excessive worker creation might get DataLoader running slow or even freeze, lower the worker number to avoid potential slowness/freeze if necessary.\n",
            "  warnings.warn(\n"
          ]
        },
        {
          "output_type": "stream",
          "name": "stdout",
          "text": [
            "Epoch 000 - Time: 11.73 HR: 0.124 NDCG: 0.060\n",
            "Epoch 001 - Time: 10.22 HR: 0.124 NDCG: 0.056\n",
            "Epoch 002 - Time: 9.99 HR: 0.140 NDCG: 0.055\n",
            "Epoch 003 - Time: 11.47 HR: 0.132 NDCG: 0.059\n",
            "Epoch 004 - Time: 8.83 HR: 0.165 NDCG: 0.065\n",
            "Epoch 005 - Time: 10.33 HR: 0.140 NDCG: 0.065\n",
            "Epoch 006 - Time: 11.11 HR: 0.140 NDCG: 0.062\n",
            "Epoch 007 - Time: 10.62 HR: 0.132 NDCG: 0.052\n",
            "Epoch 008 - Time: 9.49 HR: 0.174 NDCG: 0.069\n",
            "Epoch 009 - Time: 10.08 HR: 0.157 NDCG: 0.064\n",
            "Epoch 010 - Time: 11.13 HR: 0.157 NDCG: 0.057\n",
            "Epoch 011 - Time: 8.46 HR: 0.140 NDCG: 0.056\n",
            "Epoch 012 - Time: 10.37 HR: 0.149 NDCG: 0.062\n",
            "Epoch 013 - Time: 12.33 HR: 0.140 NDCG: 0.056\n",
            "Epoch 014 - Time: 9.21 HR: 0.140 NDCG: 0.065\n",
            "Epoch 015 - Time: 9.95 HR: 0.124 NDCG: 0.052\n",
            "Epoch 016 - Time: 9.95 HR: 0.132 NDCG: 0.056\n",
            "Epoch 017 - Time: 10.12 HR: 0.132 NDCG: 0.053\n",
            "Epoch 018 - Time: 8.81 HR: 0.132 NDCG: 0.060\n",
            "Epoch 019 - Time: 11.05 HR: 0.140 NDCG: 0.066\n",
            "Epoch 020 - Time: 11.75 HR: 0.124 NDCG: 0.056\n",
            "Epoch 021 - Time: 8.71 HR: 0.116 NDCG: 0.059\n",
            "Epoch 022 - Time: 10.04 HR: 0.140 NDCG: 0.057\n",
            "Epoch 023 - Time: 11.28 HR: 0.132 NDCG: 0.054\n",
            "Epoch 024 - Time: 9.15 HR: 0.140 NDCG: 0.063\n",
            "Epoch 025 - Time: 10.46 HR: 0.116 NDCG: 0.056\n",
            "Epoch 026 - Time: 10.45 HR: 0.149 NDCG: 0.065\n",
            "Epoch 027 - Time: 11.58 HR: 0.116 NDCG: 0.062\n",
            "Epoch 028 - Time: 9.19 HR: 0.124 NDCG: 0.060\n",
            "Epoch 029 - Time: 10.54 HR: 0.149 NDCG: 0.068\n",
            "Epoch 030 - Time: 11.77 HR: 0.132 NDCG: 0.057\n",
            "Epoch 031 - Time: 10.78 HR: 0.149 NDCG: 0.066\n",
            "Epoch 032 - Time: 9.53 HR: 0.140 NDCG: 0.057\n",
            "Epoch 033 - Time: 10.04 HR: 0.149 NDCG: 0.065\n",
            "Epoch 034 - Time: 11.06 HR: 0.132 NDCG: 0.057\n",
            "Epoch 035 - Time: 8.63 HR: 0.140 NDCG: 0.061\n",
            "Epoch 036 - Time: 10.29 HR: 0.140 NDCG: 0.066\n",
            "Epoch 037 - Time: 11.18 HR: 0.124 NDCG: 0.047\n",
            "Epoch 038 - Time: 8.77 HR: 0.157 NDCG: 0.064\n",
            "Epoch 039 - Time: 10.22 HR: 0.124 NDCG: 0.057\n",
            "Epoch 040 - Time: 11.27 HR: 0.140 NDCG: 0.063\n",
            "Epoch 041 - Time: 10.22 HR: 0.140 NDCG: 0.071\n",
            "Epoch 042 - Time: 9.85 HR: 0.149 NDCG: 0.070\n",
            "Epoch 043 - Time: 10.21 HR: 0.157 NDCG: 0.066\n",
            "Epoch 044 - Time: 11.06 HR: 0.149 NDCG: 0.068\n",
            "Epoch 045 - Time: 8.84 HR: 0.140 NDCG: 0.067\n",
            "Epoch 046 - Time: 10.40 HR: 0.165 NDCG: 0.076\n",
            "Epoch 047 - Time: 11.16 HR: 0.149 NDCG: 0.066\n",
            "Epoch 048 - Time: 8.62 HR: 0.157 NDCG: 0.071\n",
            "Epoch 049 - Time: 10.46 HR: 0.132 NDCG: 0.056\n",
            "Epoch 050 - Time: 11.35 HR: 0.140 NDCG: 0.066\n",
            "Epoch 051 - Time: 8.67 HR: 0.132 NDCG: 0.062\n",
            "Epoch 052 - Time: 11.30 HR: 0.132 NDCG: 0.068\n",
            "Epoch 053 - Time: 10.35 HR: 0.149 NDCG: 0.071\n",
            "Epoch 054 - Time: 10.95 HR: 0.157 NDCG: 0.072\n",
            "Epoch 055 - Time: 8.79 HR: 0.174 NDCG: 0.074\n",
            "Epoch 056 - Time: 10.35 HR: 0.140 NDCG: 0.063\n",
            "Epoch 057 - Time: 11.25 HR: 0.157 NDCG: 0.078\n",
            "Epoch 058 - Time: 8.64 HR: 0.157 NDCG: 0.065\n",
            "Epoch 059 - Time: 11.25 HR: 0.149 NDCG: 0.064\n",
            "Epoch 060 - Time: 10.91 HR: 0.149 NDCG: 0.066\n",
            "Epoch 061 - Time: 11.76 HR: 0.140 NDCG: 0.062\n",
            "Epoch 062 - Time: 8.78 HR: 0.132 NDCG: 0.067\n",
            "Epoch 063 - Time: 10.10 HR: 0.157 NDCG: 0.070\n",
            "Epoch 064 - Time: 12.95 HR: 0.132 NDCG: 0.062\n",
            "Epoch 065 - Time: 11.41 HR: 0.140 NDCG: 0.061\n",
            "Epoch 066 - Time: 8.82 HR: 0.157 NDCG: 0.059\n",
            "Epoch 067 - Time: 9.97 HR: 0.149 NDCG: 0.065\n",
            "Epoch 068 - Time: 12.12 HR: 0.149 NDCG: 0.065\n",
            "Epoch 069 - Time: 9.34 HR: 0.157 NDCG: 0.068\n",
            "Epoch 070 - Time: 9.93 HR: 0.140 NDCG: 0.066\n",
            "Epoch 071 - Time: 10.24 HR: 0.157 NDCG: 0.062\n",
            "Epoch 072 - Time: 10.99 HR: 0.149 NDCG: 0.064\n",
            "Epoch 073 - Time: 9.68 HR: 0.124 NDCG: 0.059\n",
            "Epoch 074 - Time: 13.82 HR: 0.132 NDCG: 0.056\n",
            "Epoch 075 - Time: 11.63 HR: 0.140 NDCG: 0.063\n",
            "Epoch 076 - Time: 10.32 HR: 0.132 NDCG: 0.058\n",
            "Epoch 077 - Time: 10.73 HR: 0.124 NDCG: 0.060\n",
            "Epoch 078 - Time: 9.70 HR: 0.132 NDCG: 0.057\n",
            "Epoch 079 - Time: 10.81 HR: 0.116 NDCG: 0.053\n",
            "Epoch 080 - Time: 11.25 HR: 0.132 NDCG: 0.060\n",
            "Epoch 081 - Time: 11.55 HR: 0.140 NDCG: 0.062\n",
            "Epoch 082 - Time: 8.78 HR: 0.140 NDCG: 0.064\n",
            "Epoch 083 - Time: 10.32 HR: 0.157 NDCG: 0.069\n",
            "Epoch 084 - Time: 12.17 HR: 0.149 NDCG: 0.062\n",
            "Epoch 085 - Time: 11.74 HR: 0.149 NDCG: 0.065\n",
            "Epoch 086 - Time: 8.74 HR: 0.149 NDCG: 0.056\n",
            "Epoch 087 - Time: 10.51 HR: 0.124 NDCG: 0.051\n",
            "Epoch 088 - Time: 12.99 HR: 0.140 NDCG: 0.062\n",
            "Epoch 089 - Time: 10.58 HR: 0.132 NDCG: 0.055\n",
            "Epoch 090 - Time: 9.49 HR: 0.140 NDCG: 0.064\n",
            "Epoch 091 - Time: 10.70 HR: 0.165 NDCG: 0.069\n",
            "Epoch 092 - Time: 12.07 HR: 0.140 NDCG: 0.065\n",
            "Epoch 093 - Time: 11.97 HR: 0.140 NDCG: 0.059\n",
            "Epoch 094 - Time: 9.92 HR: 0.140 NDCG: 0.060\n",
            "Epoch 095 - Time: 10.55 HR: 0.149 NDCG: 0.059\n",
            "Epoch 096 - Time: 11.08 HR: 0.149 NDCG: 0.057\n",
            "Epoch 097 - Time: 9.54 HR: 0.124 NDCG: 0.054\n",
            "Epoch 098 - Time: 9.32 HR: 0.165 NDCG: 0.070\n",
            "Epoch 099 - Time: 10.51 HR: 0.116 NDCG: 0.054\n"
          ]
        }
      ]
    },
    {
      "cell_type": "code",
      "source": [
        "import matplotlib.pyplot as plt\n",
        "\n",
        "# x축 데이터 (시간이나 인덱스 등)\n",
        "x = range(len(records_hr))\n",
        "\n",
        "# 꺽은선 그래프 그리기\n",
        "plt.plot(x, records_hr, label='HR'\n",
        "  #, marker='o'\n",
        "  )\n",
        "plt.plot(x, records_ngcg, label='NGCG'\n",
        "  #, marker='s'\n",
        "  )\n",
        "\n",
        "# 그래프 제목 및 축 레이블\n",
        "plt.title('Records Comparison')\n",
        "plt.xlabel('Time')\n",
        "plt.ylabel('Values')\n",
        "\n",
        "# 범례 추가\n",
        "plt.legend()\n",
        "\n",
        "# 그래프 보여주기\n",
        "plt.grid()\n",
        "plt.show()"
      ],
      "metadata": {
        "colab": {
          "base_uri": "https://localhost:8080/",
          "height": 472
        },
        "id": "6aH9Ltt3jLJ1",
        "outputId": "9831eb9e-196e-4f11-f77c-88a6df65e139"
      },
      "execution_count": 17,
      "outputs": [
        {
          "output_type": "display_data",
          "data": {
            "text/plain": [
              "<Figure size 640x480 with 1 Axes>"
            ],
            "image/png": "[encoded data removed]"
          },
          "metadata": {}
        }
      ]
    },
    {
      "cell_type": "code",
      "source": [
        "torch.save(model.state_dict(), root_path + 'BPR.pt')"
      ],
      "metadata": {
        "id": "99gc6eHboqdh"
      },
      "execution_count": 18,
      "outputs": []
    },
    {
      "cell_type": "markdown",
      "source": [
        "## 테스트"
      ],
      "metadata": {
        "id": "KLbmVWmAlMnO"
      }
    },
    {
      "cell_type": "code",
      "source": [
        "device = torch.device(\"cuda\" if torch.cuda.is_available() else \"cpu\")\n",
        "\n",
        "model = BPRNN(user_num, item_num, num_factors)\n",
        "model.to(device)\n",
        "model.load_state_dict(torch.load(root_path + 'BPR.pt'))\n",
        "model.eval()"
      ],
      "metadata": {
        "colab": {
          "base_uri": "https://localhost:8080/"
        },
        "id": "JknFKEokqJu9",
        "outputId": "658aca0d-8e9f-461d-a6fa-26bb5666f35a"
      },
      "execution_count": 19,
      "outputs": [
        {
          "output_type": "stream",
          "name": "stderr",
          "text": [
            "<ipython-input-19-9593257bf9d8>:5: FutureWarning: You are using `torch.load` with `weights_only=False` (the current default value), which uses the default pickle module implicitly. It is possible to construct malicious pickle data which will execute arbitrary code during unpickling (See https://github.com/pytorch/pytorch/blob/main/SECURITY.md#untrusted-models for more details). In a future release, the default value for `weights_only` will be flipped to `True`. This limits the functions that could be executed during unpickling. Arbitrary objects will no longer be allowed to be loaded via this mode unless they are explicitly allowlisted by the user via `torch.serialization.add_safe_globals`. We recommend you start setting `weights_only=True` for any use case where you don't have full control of the loaded file. Please open an issue on GitHub for any issues related to this experimental feature.\n",
            "  model.load_state_dict(torch.load(root_path + 'BPR.pt'))\n"
          ]
        },
        {
          "output_type": "execute_result",
          "data": {
            "text/plain": [
              "BPRNN(\n",
              "  (user_factors): Embedding(12063, 32)\n",
              "  (item_factors): Embedding(7012, 32)\n",
              "  (fc1): Linear(in_features=64, out_features=128, bias=True)\n",
              "  (fc2): Linear(in_features=128, out_features=64, bias=True)\n",
              "  (fc3): Linear(in_features=64, out_features=1, bias=True)\n",
              "  (relu): ReLU()\n",
              ")"
            ]
          },
          "metadata": {},
          "execution_count": 19
        }
      ]
    },
    {
      "cell_type": "code",
      "source": [
        "def recommend_restaurants(user_id, model, train_mat, item_num, top_k=10):\n",
        "    \"\"\"\n",
        "    Arg:\n",
        "    - user_id (int): 추천을 받을 사용자 ID.\n",
        "    - model (torch.nn.Module): 학습된 BPR 모델.\n",
        "    - train_mat (scipy.sparse.dok_matrix): 사용자-아이템 희소 행렬, 이미 방문한 음식점 확인에 사용\n",
        "    - item_num (int): 전체 아이템(음식점) 수.\n",
        "    - top_k (int): 추천받을 음식점의 수.\n",
        "\n",
        "    Returns:\n",
        "    - top_k_items (list of int): 추천된 상위 음식점 ID 리스트.\n",
        "    \"\"\"\n",
        "    # 모든 아이템(음식점)을 대상으로 평가\n",
        "    item_ids = torch.tensor(range(item_num)).to(device)\n",
        "\n",
        "    # 사용자 임베딩과 아이템 임베딩을 계산\n",
        "    user_embedding = model.user_factors(torch.tensor([user_id]).to(device))\n",
        "    item_embeddings = model.item_factors(item_ids)\n",
        "\n",
        "    # 내적(matmul)을 통해 각 음식점에 대한 점수 산출 ( [user_embedding * d] [d* item_embeddings] ) \".t()\"를 통해 전치행렬로 변환\n",
        "    # squeeze(0)을 통해 1차원 벡터로 변환 / cpu() - GPU에 있는 텐서를 CPU로 옮김\n",
        "    scores = torch.matmul(user_embedding, item_embeddings.t()).squeeze(0).cpu().detach().numpy()\n",
        "\n",
        "    # 이미 방문한 음식점은 추천에서 제외\n",
        "    print(train_mat[user_id].keys())\n",
        "    already_visited = list(train_mat[user_id].keys())\n",
        "    for visited_item in already_visited:\n",
        "        scores[visited_item[1]] = -np.inf  # 이미 방문한 음식점의 점수를 -무한대로 설정\n",
        "\n",
        "    # 상위 top_k 음식점을 추출\n",
        "    top_k_items = np.argsort(scores)[-top_k:][::-1]  # 점수가 높은 순서대로 정렬\n",
        "\n",
        "    return top_k_items\n",
        "\n",
        "\n",
        "# 사용자 n에 대해 상위 10개 음식점을 추천\n",
        "user_id = 3789  # 추천할 사용자 ID\n",
        "top_k_items = recommend_restaurants(user_id, model, train_mat, item_num, top_k=10)\n",
        "\n",
        "print(f\"Top {len(top_k_items)} 추천 음식점 for 사용자 {user_id}: {top_k_items}\")"
      ],
      "metadata": {
        "colab": {
          "base_uri": "https://localhost:8080/"
        },
        "id": "8FlqCL63jp8I",
        "outputId": "74fff449-3cf9-43fc-ffbb-9cc1b6ba5784"
      },
      "execution_count": 20,
      "outputs": [
        {
          "output_type": "stream",
          "name": "stdout",
          "text": [
            "dict_keys([(0, 50), (0, 64), (0, 75), (0, 94), (0, 211), (0, 292), (0, 325), (0, 333), (0, 361), (0, 484), (0, 503), (0, 614), (0, 683), (0, 756), (0, 781), (0, 952), (0, 975), (0, 1029), (0, 1033), (0, 1076), (0, 1135), (0, 1161), (0, 1212), (0, 1393), (0, 1430), (0, 1483), (0, 1504), (0, 1506), (0, 1841), (0, 1869), (0, 1993), (0, 2000), (0, 2074), (0, 2514), (0, 2923), (0, 3549)])\n",
            "Top 10 추천 음식점 for 사용자 3789: [ 800 3296 4804 1501 4996 4238 4830 4114 1779 3640]\n"
          ]
        }
      ]
    }
  ]
}