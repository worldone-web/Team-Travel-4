{
  "nbformat": 4,
  "nbformat_minor": 0,
  "metadata": {
    "colab": {
      "provenance": [],
      "authorship_tag": "ABX9TyPWkI/pXVfNEIM/T5u5h3GL",
      "include_colab_link": true
    },
    "kernelspec": {
      "name": "python3",
      "display_name": "Python 3"
    },
    "language_info": {
      "name": "python"
    }
  },
  "cells": [
    {
      "cell_type": "markdown",
      "metadata": {
        "id": "view-in-github",
        "colab_type": "text"
      },
      "source": [
        "<a href=\"https://colab.research.google.com/github/worldone-web/Team4-Traveler/blob/main/LightFM_Model.ipynb\" target=\"_parent\"><img src=\"https://colab.research.google.com/assets/colab-badge.svg\" alt=\"Open In Colab\"/></a>"
      ]
    },
    {
      "cell_type": "code",
      "execution_count": 1,
      "metadata": {
        "colab": {
          "base_uri": "https://localhost:8080/"
        },
        "id": "dYLf0YP25TYz",
        "outputId": "beb28f70-d62e-4f76-ac73-f85b9f457b1a"
      },
      "outputs": [
        {
          "output_type": "stream",
          "name": "stdout",
          "text": [
            "Mounted at /content/drive\n"
          ]
        }
      ],
      "source": [
        "from google.colab import drive\n",
        "drive.mount('/content/drive')"
      ]
    },
    {
      "cell_type": "code",
      "source": [
        "pip install lightfm"
      ],
      "metadata": {
        "colab": {
          "base_uri": "https://localhost:8080/"
        },
        "id": "Qhf2Q8uP5obu",
        "outputId": "01b13f53-f8d3-4aa6-964e-9a95df45a687"
      },
      "execution_count": 2,
      "outputs": [
        {
          "output_type": "stream",
          "name": "stdout",
          "text": [
            "Collecting lightfm\n",
            "  Downloading lightfm-1.17.tar.gz (316 kB)\n",
            "\u001b[2K     \u001b[90m━━━━━━━━━━━━━━━━━━━━━━━━━━━━━━━━━━━━━━━━\u001b[0m \u001b[32m316.4/316.4 kB\u001b[0m \u001b[31m2.2 MB/s\u001b[0m eta \u001b[36m0:00:00\u001b[0m\n",
            "\u001b[?25h  Preparing metadata (setup.py) ... \u001b[?25l\u001b[?25hdone\n",
            "Requirement already satisfied: numpy in /usr/local/lib/python3.10/dist-packages (from lightfm) (1.25.2)\n",
            "Requirement already satisfied: scipy>=0.17.0 in /usr/local/lib/python3.10/dist-packages (from lightfm) (1.11.4)\n",
            "Requirement already satisfied: requests in /usr/local/lib/python3.10/dist-packages (from lightfm) (2.31.0)\n",
            "Requirement already satisfied: scikit-learn in /usr/local/lib/python3.10/dist-packages (from lightfm) (1.2.2)\n",
            "Requirement already satisfied: charset-normalizer<4,>=2 in /usr/local/lib/python3.10/dist-packages (from requests->lightfm) (3.3.2)\n",
            "Requirement already satisfied: idna<4,>=2.5 in /usr/local/lib/python3.10/dist-packages (from requests->lightfm) (3.6)\n",
            "Requirement already satisfied: urllib3<3,>=1.21.1 in /usr/local/lib/python3.10/dist-packages (from requests->lightfm) (2.0.7)\n",
            "Requirement already satisfied: certifi>=2017.4.17 in /usr/local/lib/python3.10/dist-packages (from requests->lightfm) (2024.2.2)\n",
            "Requirement already satisfied: joblib>=1.1.1 in /usr/local/lib/python3.10/dist-packages (from scikit-learn->lightfm) (1.3.2)\n",
            "Requirement already satisfied: threadpoolctl>=2.0.0 in /usr/local/lib/python3.10/dist-packages (from scikit-learn->lightfm) (3.4.0)\n",
            "Building wheels for collected packages: lightfm\n",
            "  Building wheel for lightfm (setup.py) ... \u001b[?25l\u001b[?25hdone\n",
            "  Created wheel for lightfm: filename=lightfm-1.17-cp310-cp310-linux_x86_64.whl size=808327 sha256=f1b52b5c7baabb1c543187d281aa8b936ee89fe8175256ecdc3789bf95fa6d9b\n",
            "  Stored in directory: /root/.cache/pip/wheels/4f/9b/7e/0b256f2168511d8fa4dae4fae0200fdbd729eb424a912ad636\n",
            "Successfully built lightfm\n",
            "Installing collected packages: lightfm\n",
            "Successfully installed lightfm-1.17\n"
          ]
        }
      ]
    },
    {
      "cell_type": "code",
      "source": [
        "import pandas as pd\n",
        "import numpy as np\n",
        "from lightfm import LightFM\n",
        "from lightfm.data import Dataset\n",
        "from lightfm.cross_validation import random_train_test_split\n",
        "from sklearn.metrics import mean_squared_error, mean_absolute_error\n",
        "from lightfm.evaluation import auc_score\n",
        "from lightfm.evaluation import precision_at_k"
      ],
      "metadata": {
        "id": "bhnjcozQ5hvP"
      },
      "execution_count": 15,
      "outputs": []
    },
    {
      "cell_type": "code",
      "source": [
        "df = pd.read_csv(\"/content/drive/MyDrive/G_Project/philadelphia_reviews.csv\")\n",
        "print(df.shape)\n",
        "dataset = Dataset() #LightFm 데이터셋 생성\n",
        "dataset.fit(users=df['user_id'], items=df['business_id']) # 데이터셋의 사용자 및 아이템 ID를 내부적으로 인덱싱"
      ],
      "metadata": {
        "id": "HK90sHzV5wQm",
        "colab": {
          "base_uri": "https://localhost:8080/"
        },
        "outputId": "620728ba-dc3a-4e3d-efad-5abfced9e233"
      },
      "execution_count": 4,
      "outputs": [
        {
          "output_type": "stream",
          "name": "stdout",
          "text": [
            "(738688, 3)\n"
          ]
        }
      ]
    },
    {
      "cell_type": "markdown",
      "source": [
        "iterrows() 메서드를 통해 데이터프레임을 반복하며 각 행(row)에 접근하여 각 행마다 (index, row) 형태의 튜플로 반환한다.\n",
        "\n",
        "\n",
        "---\n",
        "\n",
        "\n",
        "각 행에 대해 사용자 ID(row['user_id']), 음식점 ID(row['business_id'])을\n",
        "통해서 자동으로 상호작용값을 정한 뒤 모델을 생성\n",
        "\n",
        "\n",
        "---\n",
        "\n",
        "\n",
        "build_interactions() 메서드는 사용자-음식점 간의 상호 작용을 표현하는 희소 행렬을 반환한다.\n",
        "희소 행렬은 상호 작용이 있는 부분에는 평점 값으로 채워지고, 상호 작용이 없는 부분은 0으로 채워진 행렬입니다.\n",
        "\n",
        "---\n",
        "\n"
      ],
      "metadata": {
        "id": "4QPRNRMh7SRY"
      }
    },
    {
      "cell_type": "code",
      "source": [
        "interactions, _ = dataset.build_interactions((row['user_id'], row['business_id']) for index, row in df.iterrows())\n",
        "train_data, test_data = random_train_test_split(interactions, test_percentage=0.2)"
      ],
      "metadata": {
        "id": "LhPeQFOn6hBy"
      },
      "execution_count": 11,
      "outputs": []
    },
    {
      "cell_type": "markdown",
      "source": [
        "wrap은 LightFM모델에 사용되는 손실함수이며 사용자가 선호하는 음식점을 더 높은 순위로 배치하는 방식으로 동작한다.<br>\n",
        "이 손실 함수는 추천 시스템의 핵심 지표 중 하나인 정확한 순위 매기기를 최적화하는데 유용하다.\n",
        "\n",
        "---\n",
        "여기서 test_data.row와 test_data.col은 테스트 데이터의 사용자와 음식점의 인덱스입니다. LightFM 모델은 사용자와 음식점 간의 상호 작용을 예측하기 위해 사용됩니다. 이 인덱스를 사용하여 각 사용자와 음식점 간의 상호 작용을 예측한 값이 predictions에 저장됩니다.\n",
        "\n",
        "\n",
        "---\n",
        "\n",
        "LightFM 모델의 predict 메서드는 사용자와 아이템의 인덱스를 입력으로 받으며<br>\n",
        "예측값은 일반적으로 사용자와 음식점의 잠재적인 요인을 내적하여 얻어진다.\n"
      ],
      "metadata": {
        "id": "1rodYktW8W1L"
      }
    },
    {
      "cell_type": "code",
      "source": [
        "lightFm = LightFM(loss='warp')# , no_components=20)\n",
        "lightFm.fit(train_data) # ,epochs =10)\n",
        "# 예측 수행\n",
        "predictions = lightFm.predict(test_data.row, test_data.col)\n",
        "\n",
        "# RMSE 계산\n",
        "rmse_score = np.sqrt(mean_squared_error(test_data.data, predictions))\n",
        "print(f\"RMSE: {rmse_score}\")\n",
        "\n",
        "# MAE 계산\n",
        "mae_score = mean_absolute_error(test_data.data, predictions)\n",
        "print(f\"MAE: {mae_score}\")\n",
        "\n",
        "# MSE 계산\n",
        "mse_score = mean_squared_error(test_data.data, predictions)\n",
        "print(f\"MSE: {mse_score}\")\n"
      ],
      "metadata": {
        "colab": {
          "base_uri": "https://localhost:8080/"
        },
        "id": "nREtOF4G8WPU",
        "outputId": "0368d1cf-ff28-4a23-aee8-a7087bd76d70"
      },
      "execution_count": 12,
      "outputs": [
        {
          "output_type": "stream",
          "name": "stdout",
          "text": [
            "RMSE: 1.323287723373472\n",
            "MAE: 1.0835964419418398\n",
            "MSE: 1.751090398830946\n"
          ]
        }
      ]
    },
    {
      "cell_type": "markdown",
      "source": [
        "해당 성능평가는 사용자의 예측 평점이 얼마나 정확한지로 평가했다."
      ],
      "metadata": {
        "id": "HzQK7i4cUEOm"
      }
    },
    {
      "cell_type": "markdown",
      "source": [
        "LightFM은 평가 지표를 직접 계산하는 기능을 제공하지 않는다. 따라서 위의 코드에서 사용한 RMSE(Root Mean Squared Error), MAE(Mean Absolute Error), MSE(Mean Squared Error)는 LightFM에서 제공하는 메서드가 아니며, 올바른 평가 방법이 아니다."
      ],
      "metadata": {
        "id": "F6FCF7Imv6rq"
      }
    },
    {
      "cell_type": "markdown",
      "source": [
        "AUC는 모델이 랭킹을 얼마나 잘 예측하는지 측정하며,<br> precision at k는 상위 k개 아이템 중 실제로 사용자가 선호하는 아이템의 비율을 측정한다."
      ],
      "metadata": {
        "id": "XVo_tL5f0Odz"
      }
    },
    {
      "cell_type": "code",
      "source": [
        "# AUC 평가\n",
        "train_auc = auc_score(lightFm, train_data).mean()\n",
        "test_auc = auc_score(lightFm, test_data).mean()\n",
        "\n",
        "# Precision at k 평가\n",
        "k = 5  # 상위 k개 아이템\n",
        "train_precision = precision_at_k(lightFm, train_data, k=k).mean()\n",
        "test_precision = precision_at_k(lightFm, test_data, k=k).mean()\n",
        "\n",
        "print(\"Train AUC:\", train_auc)\n",
        "print(\"Test AUC:\", test_auc)\n",
        "print(\"Train Precision at\", k, \":\", train_precision)\n",
        "print(\"Test Precision at\", k, \":\", test_precision)"
      ],
      "metadata": {
        "colab": {
          "base_uri": "https://localhost:8080/"
        },
        "id": "ZbdTek2_wIRx",
        "outputId": "506a90d7-f6a8-45ef-9592-33aa6a946c79"
      },
      "execution_count": 16,
      "outputs": [
        {
          "output_type": "stream",
          "name": "stdout",
          "text": [
            "Train AUC: 0.84907186\n",
            "Test AUC: 0.83860433\n",
            "Train Precision at 5 : 0.018789612\n",
            "Test Precision at 5 : 0.011333432\n"
          ]
        }
      ]
    },
    {
      "cell_type": "code",
      "source": [
        "# Precision at k 평가\n",
        "k = 1  # 상위 k개 아이템\n",
        "train_precision = precision_at_k(lightFm, train_data, k=k).mean()\n",
        "test_precision = precision_at_k(lightFm, test_data, k=k).mean()\n",
        "print(\"Train Precision at\", k, \":\", train_precision)\n",
        "print(\"Test Precision at\", k, \":\", test_precision)"
      ],
      "metadata": {
        "colab": {
          "base_uri": "https://localhost:8080/"
        },
        "id": "d_69VMrw3PPg",
        "outputId": "d09f6556-b407-4dae-b4b8-aefb8177a14b"
      },
      "execution_count": 18,
      "outputs": [
        {
          "output_type": "stream",
          "name": "stdout",
          "text": [
            "Train Precision at 1 : 0.025683071\n",
            "Test Precision at 1 : 0.015481233\n"
          ]
        }
      ]
    },
    {
      "cell_type": "markdown",
      "source": [
        "Precision at k는 상위 k개 아이템에 대한 정확도를 나타내는 지표이다. Precision at k는 추천된 상위 k개 아이템 중에서 사용자가 실제로 선호하는 아이템의 비율을 측정하여 사용자에게 얼마나 정확한 추천을 제공하는지를 평가하는 데 사용된다. Precision at k가 높을수록 모델이 더 정확한 추천을 제공한다는 의미\n",
        "1에 가까울수록 좋음"
      ],
      "metadata": {
        "id": "F-lVR1-t0gHp"
      }
    },
    {
      "cell_type": "markdown",
      "source": [
        "AUC는 모델이 얼마나 잘 양성 클래스와 음성 클래스를 분리하는지를 나타낸다. LightFM에서는 이진 분류 문제가 아닌 협업 필터링(추천) 문제를 다루기 때문에 AUC는 사용자에게 올바른 아이템을 추천하는 능력을 측정한다. AUC가 1에 가까울수록 모델이 더 좋은 추천을 제공한다는 의미"
      ],
      "metadata": {
        "id": "f1N5nr4G0pi8"
      }
    },
    {
      "cell_type": "code",
      "source": [
        "# AUC 평가\n",
        "train_auc = auc_score(lightFm, train_data)\n",
        "test_auc = auc_score(lightFm, test_data)\n",
        "\n",
        "# Precision at k 평가\n",
        "k = 5  # 상위 k개 아이템\n",
        "train_precision = precision_at_k(lightFm, train_data, k=k)\n",
        "test_precision = precision_at_k(lightFm, test_data, k=k)\n",
        "\n",
        "print(\"Train AUC:\", train_auc)\n",
        "print(\"Test AUC:\", test_auc)\n",
        "print(\"Train Precision at\", k, \":\", train_precision)\n",
        "print(\"Test Precision at\", k, \":\", test_precision)"
      ],
      "metadata": {
        "colab": {
          "base_uri": "https://localhost:8080/"
        },
        "id": "FYaMhiUq0Cm7",
        "outputId": "ccdecf5d-7440-4d7d-efb5-85afb522015c"
      },
      "execution_count": 17,
      "outputs": [
        {
          "output_type": "stream",
          "name": "stdout",
          "text": [
            "Train AUC: [0.9137809  0.7729882  0.8032335  ... 0.38897526 0.37017667 0.17484099]\n",
            "Test AUC: [0.82611    0.8720659  0.86982334 ... 0.62233216 0.15505302 0.08734983]\n",
            "Train Precision at 5 : [0. 0. 0. ... 0. 0. 0.]\n",
            "Test Precision at 5 : [0. 0. 0. ... 0. 0. 0.]\n"
          ]
        }
      ]
    },
    {
      "cell_type": "markdown",
      "source": [
        "위는 각 사용자에 대한 모델의 성능이다."
      ],
      "metadata": {
        "id": "LOnQ_DkE2Y2L"
      }
    }
  ]
}