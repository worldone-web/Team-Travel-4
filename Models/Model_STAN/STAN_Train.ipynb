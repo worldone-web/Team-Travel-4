{
  "nbformat": 4,
  "nbformat_minor": 0,
  "metadata": {
    "colab": {
      "provenance": [],
      "gpuType": "A100",
      "machine_shape": "hm"
    },
    "kernelspec": {
      "name": "python3",
      "display_name": "Python 3"
    },
    "language_info": {
      "name": "python"
    },
    "accelerator": "GPU"
  },
  "cells": [
    {
      "cell_type": "code",
      "execution_count": 2,
      "metadata": {
        "colab": {
          "base_uri": "https://localhost:8080/"
        },
        "id": "aRvPJHbOcHKD",
        "outputId": "2d600c9f-d373-4aef-d8cd-33cfe012072a"
      },
      "outputs": [
        {
          "output_type": "stream",
          "name": "stdout",
          "text": [
            "Cloning into 'Spatial-Temporal-Attention-Network-for-POI-Recommendation'...\n",
            "remote: Enumerating objects: 449, done.\u001b[K\n",
            "remote: Counting objects: 100% (247/247), done.\u001b[K\n",
            "remote: Compressing objects: 100% (107/107), done.\u001b[K\n",
            "remote: Total 449 (delta 148), reused 233 (delta 139), pack-reused 202\u001b[K\n",
            "Receiving objects: 100% (449/449), 8.36 MiB | 14.89 MiB/s, done.\n",
            "Resolving deltas: 100% (241/241), done.\n"
          ]
        }
      ],
      "source": [
        "!git clone https://github.com/hashilyze/Spatial-Temporal-Attention-Network-for-POI-Recommendation.git"
      ]
    },
    {
      "cell_type": "code",
      "source": [
        "%cd Spatial-Temporal-Attention-Network-for-POI-Recommendation"
      ],
      "metadata": {
        "colab": {
          "base_uri": "https://localhost:8080/"
        },
        "id": "72yTrbh1cRU0",
        "outputId": "994cdb2c-5566-483a-e1bd-88fa3bb456d4"
      },
      "execution_count": 5,
      "outputs": [
        {
          "output_type": "stream",
          "name": "stdout",
          "text": [
            "/content/Spatial-Temporal-Attention-Network-for-POI-Recommendation\n"
          ]
        }
      ]
    },
    {
      "cell_type": "code",
      "source": [
        "!git checkout PA"
      ],
      "metadata": {
        "colab": {
          "base_uri": "https://localhost:8080/"
        },
        "id": "fhMC1e5NC4wA",
        "outputId": "5176fbb2-b255-4cbc-c439-4acc587dcd28"
      },
      "execution_count": 6,
      "outputs": [
        {
          "output_type": "stream",
          "name": "stdout",
          "text": [
            "Branch 'PA' set up to track remote branch 'PA' from 'origin'.\n",
            "Switched to a new branch 'PA'\n"
          ]
        }
      ]
    },
    {
      "cell_type": "code",
      "source": [
        "!python load.py"
      ],
      "metadata": {
        "colab": {
          "base_uri": "https://localhost:8080/"
        },
        "id": "9fj0ZU5qchHh",
        "outputId": "57d15bcd-cc7e-44a2-8088-42a752aae6a3"
      },
      "execution_count": 8,
      "outputs": [
        {
          "output_type": "stream",
          "name": "stdout",
          "text": [
            "100 116\n",
            "200 42\n",
            "300 18\n",
            "400 126\n",
            "500 27\n",
            "600 23\n",
            "700 18\n",
            "800 43\n",
            "900 22\n",
            "1000 15\n",
            "1100 16\n",
            "1200 18\n",
            "1300 67\n",
            "1400 133\n",
            "1500 11\n",
            "1600 50\n",
            "1700 17\n",
            "1800 13\n",
            "1900 51\n",
            "2000 57\n",
            "2100 11\n",
            "2200 14\n",
            "2300 11\n",
            "2400 28\n",
            "2500 48\n",
            "2600 18\n",
            "2700 146\n",
            "2800 20\n",
            "2900 30\n",
            "3000 34\n",
            "3100 42\n",
            "3200 50\n",
            "3300 10\n",
            "3400 10\n",
            "3500 34\n",
            "3600 14\n",
            "3700 12\n",
            "3800 39\n",
            "3900 35\n",
            "4000 66\n",
            "4100 20\n",
            "4200 25\n",
            "4300 53\n",
            "4400 64\n",
            "4500 22\n",
            "4600 10\n",
            "4700 19\n",
            "4800 16\n",
            "4900 51\n",
            "5000 11\n",
            "5100 13\n",
            "5200 14\n",
            "5300 38\n",
            "5400 55\n",
            "5500 15\n",
            "5600 10\n",
            "5700 21\n",
            "5800 20\n",
            "5900 14\n",
            "6000 15\n",
            "6100 33\n",
            "6200 21\n",
            "6300 23\n",
            "6400 27\n",
            "6500 10\n",
            "6600 17\n",
            "6700 34\n",
            "6800 16\n",
            "6900 40\n",
            "7000 21\n",
            "7100 19\n",
            "7200 18\n",
            "7300 10\n",
            "7400 15\n",
            "7500 11\n",
            "7600 19\n",
            "7700 18\n",
            "7800 26\n",
            "7900 20\n",
            "8000 23\n",
            "8100 16\n",
            "8200 20\n",
            "8300 11\n",
            "8400 11\n",
            "8500 15\n",
            "8600 10\n",
            "8700 26\n",
            "8800 10\n",
            "8900 14\n",
            "9000 24\n",
            "9100 21\n",
            "9200 13\n",
            "9300 11\n",
            "9400 38\n",
            "9500 15\n",
            "9600 10\n",
            "9700 15\n",
            "9800 40\n",
            "9900 20\n",
            "10000 20\n",
            "10100 14\n",
            "10200 21\n",
            "10300 11\n",
            "10400 15\n",
            "10500 11\n",
            "10600 12\n",
            "10700 16\n",
            "10800 22\n",
            "10900 13\n",
            "11000 12\n",
            "11100 11\n",
            "11200 13\n",
            "11300 17\n",
            "11400 11\n",
            "11500 10\n",
            "11600 13\n",
            "11700 10\n",
            "11800 10\n",
            "11900 14\n",
            "12000 12\n",
            "0\n",
            "100\n",
            "200\n",
            "300\n",
            "400\n",
            "500\n",
            "600\n",
            "700\n",
            "800\n",
            "900\n",
            "1000\n",
            "1100\n",
            "1200\n",
            "1300\n",
            "1400\n",
            "1500\n",
            "1600\n",
            "1700\n",
            "1800\n",
            "1900\n",
            "2000\n",
            "2100\n",
            "2200\n",
            "2300\n",
            "2400\n",
            "2500\n",
            "2600\n",
            "2700\n",
            "2800\n",
            "2900\n",
            "3000\n",
            "3100\n",
            "3200\n",
            "3300\n",
            "3400\n",
            "3500\n",
            "3600\n",
            "3700\n",
            "3800\n",
            "3900\n",
            "4000\n",
            "4100\n",
            "4200\n",
            "4300\n",
            "4400\n",
            "4500\n",
            "4600\n",
            "4700\n",
            "4800\n",
            "4900\n",
            "5000\n",
            "5100\n",
            "5200\n",
            "5300\n",
            "5400\n",
            "5500\n",
            "5600\n",
            "5700\n",
            "5800\n",
            "5900\n",
            "6000\n",
            "6100\n",
            "6200\n",
            "6300\n",
            "6400\n",
            "6500\n",
            "6600\n",
            "6700\n",
            "6800\n",
            "6900\n",
            "7000\n"
          ]
        }
      ]
    },
    {
      "cell_type": "code",
      "source": [
        "!python train.py"
      ],
      "metadata": {
        "colab": {
          "base_uri": "https://localhost:8080/"
        },
        "id": "igFTh5UFclqO",
        "outputId": "7e8cf2a0-e48d-4c06-d606-e99607614f91"
      },
      "execution_count": 9,
      "outputs": [
        {
          "output_type": "stream",
          "name": "stdout",
          "text": [
            "MultiEmbed.emb_t.weight\n",
            "MultiEmbed.emb_l.weight\n",
            "MultiEmbed.emb_u.weight\n",
            "MultiEmbed.emb_su.weight\n",
            "MultiEmbed.emb_sl.weight\n",
            "MultiEmbed.emb_tu.weight\n",
            "MultiEmbed.emb_tl.weight\n",
            "SelfAttn.query.weight\n",
            "SelfAttn.key.weight\n",
            "SelfAttn.value.weight\n",
            "Embed.emb_su.weight\n",
            "Embed.emb_sl.weight\n",
            "Embed.emb_tu.weight\n",
            "Embed.emb_tl.weight\n",
            "Attn.value.weight\n",
            "Attn.emb_loc.weight\n",
            "num of params 970200\n",
            "100% 100/100 [06:10<00:00,  3.70s/it]\n",
            "epoch:1, time:372.1559226512909, valid_acc:[0. 0. 0. 0.]\n",
            "epoch:1, time:372.1561634540558, test_acc:[0. 0. 0. 0.]\n",
            "100% 100/100 [06:08<00:00,  3.69s/it]\n",
            "epoch:2, time:740.7970941066742, valid_acc:[0.   0.   0.   0.01]\n",
            "epoch:2, time:740.797372341156, test_acc:[0. 0. 0. 0.]\n",
            "100% 100/100 [06:13<00:00,  3.73s/it]\n",
            "epoch:3, time:1113.993771314621, valid_acc:[0. 0. 0. 0.]\n",
            "epoch:3, time:1113.9939978122711, test_acc:[0. 0. 0. 0.]\n",
            "100% 100/100 [06:16<00:00,  3.77s/it]\n",
            "epoch:4, time:1490.5284068584442, valid_acc:[0.   0.   0.01 0.01]\n",
            "epoch:4, time:1490.5289640426636, test_acc:[0. 0. 0. 0.]\n",
            "100% 100/100 [06:16<00:00,  3.77s/it]\n",
            "epoch:5, time:1867.076874256134, valid_acc:[0.   0.01 0.02 0.02]\n",
            "epoch:5, time:1867.077199459076, test_acc:[0.   0.   0.01 0.02]\n",
            "100% 100/100 [06:16<00:00,  3.76s/it]\n",
            "epoch:6, time:2243.5138533115387, valid_acc:[0.   0.   0.01 0.02]\n",
            "epoch:6, time:2243.514177799225, test_acc:[0. 0. 0. 0.]\n",
            "100% 100/100 [06:16<00:00,  3.76s/it]\n",
            "epoch:7, time:2619.7676157951355, valid_acc:[0. 0. 0. 0.]\n",
            "epoch:7, time:2619.767833709717, test_acc:[0.   0.   0.   0.02]\n",
            "100% 100/100 [06:16<00:00,  3.76s/it]\n",
            "epoch:8, time:2996.180966615677, valid_acc:[0. 0. 0. 0.]\n",
            "epoch:8, time:2996.181169271469, test_acc:[0.01 0.01 0.01 0.01]\n",
            "100% 100/100 [06:16<00:00,  3.76s/it]\n",
            "epoch:9, time:3372.5014374256134, valid_acc:[0.   0.   0.   0.01]\n",
            "epoch:9, time:3372.5017206668854, test_acc:[0.   0.   0.01 0.03]\n",
            "100% 100/100 [06:12<00:00,  3.72s/it]\n",
            "epoch:10, time:3744.760484457016, valid_acc:[0. 0. 0. 0.]\n",
            "epoch:10, time:3744.7607021331787, test_acc:[0.   0.04 0.05 0.05]\n"
          ]
        }
      ]
    },
    {
      "cell_type": "code",
      "source": [],
      "metadata": {
        "id": "FPGEUEPLldD0"
      },
      "execution_count": null,
      "outputs": []
    }
  ]
}